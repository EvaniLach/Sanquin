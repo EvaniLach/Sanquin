{
 "cells": [
  {
   "cell_type": "code",
   "execution_count": 203,
   "metadata": {
    "collapsed": true
   },
   "outputs": [],
   "source": [
    "import pandas as pd\n",
    "import matplotlib.pyplot as plt\n",
    "import io\n",
    "import glob\n",
    "import os"
   ]
  },
  {
   "cell_type": "code",
   "execution_count": 67,
   "outputs": [],
   "source": [
    "path = r'C:/Users/evani/OneDrive/Documenten/Alette data/bijlagen'"
   ],
   "metadata": {
    "collapsed": false,
    "pycharm": {
     "name": "#%%\n"
    }
   }
  },
  {
   "cell_type": "code",
   "execution_count": 84,
   "outputs": [],
   "source": [
    "def extract_columns(path):\n",
    "\n",
    "    with open(path) as f:\n",
    "        txt = f.read()\n",
    "\n",
    "        marker1 = 'R.Time (min)\tIntensity'\n",
    "        marker2 = '[LC Chromatogram(Detector A-Ch2)]'\n",
    "        txt2 = txt.split(marker1)\n",
    "        txt2 = txt2[1].split(marker2)\n",
    "        txt2 = txt2[0]\n",
    "\n",
    "    return txt2"
   ],
   "metadata": {
    "collapsed": false,
    "pycharm": {
     "name": "#%%\n"
    }
   }
  },
  {
   "cell_type": "code",
   "execution_count": 354,
   "outputs": [],
   "source": [
    "def read_txt(path):\n",
    "    txt_files = glob.glob(path + \"/*.txt\")\n",
    "\n",
    "    txt_list = []\n",
    "    columns = ['R.Time (min)']\n",
    "\n",
    "    for file in txt_files:\n",
    "        txt_list.append(extract_columns(file))\n",
    "        columns.append(os.path.basename(file).replace('.txt', ''))\n",
    "\n",
    "    df_list = [pd.read_csv(io.StringIO(item), sep=\"\\t\", header=None) for item in txt_list]\n",
    "\n",
    "    dfs = [df.set_index(0) for df in df_list]\n",
    "    full_df = pd.concat(dfs, axis=1)\n",
    "    full_df = full_df.reset_index()\n",
    "    full_df[0] = full_df[0].replace(',', '.', regex=True).astype(float)\n",
    "    full_df.columns = columns\n",
    "    #full_df = full_df.set_index('R.Time (min)')\n",
    "    return full_df"
   ],
   "metadata": {
    "collapsed": false,
    "pycharm": {
     "name": "#%%\n"
    }
   }
  },
  {
   "cell_type": "code",
   "execution_count": 462,
   "outputs": [],
   "source": [
    "values = [(5, 40, 40), (60, 80, 10), (90, 95, 10)]\n",
    "\n",
    "def add_gradient(df):\n",
    "    df['Gradient'] = 0\n",
    "    for i in range(len(values)):\n",
    "        start_i = df.index[df['R.Time (min)'] == values[i][0]][0]\n",
    "        end_i = df.index[df['R.Time (min)'] == values[i][1]][0]\n",
    "        increm = values[i][2] / (end_i - start_i)\n",
    "        for j in range(start_i, end_i + 1):\n",
    "            df.loc[j, 'Gradient'] = df.loc[j-1, 'Gradient'] + increm\n",
    "        if i < len(values) - 1:\n",
    "            new_end = df.index[df['R.Time (min)'] == values[i+1][0]][0]\n",
    "            sum = df['Gradient'].iloc[end_i]\n",
    "            for x in range(end_i, new_end):\n",
    "                df.loc[x, 'Gradient'] = values[i][2]"
   ],
   "metadata": {
    "collapsed": false,
    "pycharm": {
     "name": "#%%\n"
    }
   }
  },
  {
   "cell_type": "code",
   "execution_count": 460,
   "outputs": [
    {
     "data": {
      "text/plain": "       R.Time (min)  1205_Blanco_before NaKa02_Medium Gradient_Output  \\\n0           0.00000                                           -2044.0   \n1           0.00833                                           -2044.0   \n2           0.01667                                           -2046.0   \n3           0.02500                                           -2046.0   \n4           0.03333                                           -2047.0   \n...             ...                                               ...   \n11638      96.98333                                               NaN   \n11639      96.99167                                               NaN   \n11640      97.00000                                               NaN   \n11641      97.00833                                               NaN   \n11642      97.01667                                               NaN   \n\n       1205_Blanco_before_naka_01_Output  1205_NaKa_01_duplo_Output  \\\n0                                 6839.0                    -2200.0   \n1                                 6839.0                    -2200.0   \n2                                 6901.0                    -2199.0   \n3                                 6922.0                    -2197.0   \n4                                 6904.0                    -2197.0   \n...                                  ...                        ...   \n11638                                NaN                        NaN   \n11639                                NaN                        NaN   \n11640                                NaN                        NaN   \n11641                                NaN                        NaN   \n11642                                NaN                        NaN   \n\n       1205_NaKa_01_Output  1205_NaKa_02_Duplo_Output  1205_NaKa_02_Output  \\\n0                  -1494.0                    -2546.0              -2281.0   \n1                  -1494.0                    -2546.0              -2281.0   \n2                  -1498.0                    -2546.0              -2278.0   \n3                  -1501.0                    -2545.0              -2274.0   \n4                  -1502.0                    -2544.0              -2272.0   \n...                    ...                        ...                  ...   \n11638                  NaN                        NaN                  NaN   \n11639                  NaN                        NaN                  NaN   \n11640                  NaN                        NaN                  NaN   \n11641                  NaN                        NaN                  NaN   \n11642                  NaN                        NaN                  NaN   \n\n       1505_Blanco_before_nAKa_0-40-95_Output  1505_NaKa_0-40-95_duplo_Output  \\\n0                                      9645.0                         -695016   \n1                                      9645.0                         -695016   \n2                                      9674.0                         -695011   \n3                                      9693.0                         -695006   \n4                                      9713.0                         -695002   \n...                                       ...                             ...   \n11638                                     NaN                         -695180   \n11639                                     NaN                         -695180   \n11640                                     NaN                         -695182   \n11641                                     NaN                         -695183   \n11642                                     NaN                         -695184   \n\n       1505_NaKa_0-40-95_Output  \n0                       -693246  \n1                       -693246  \n2                       -693246  \n3                       -693250  \n4                       -693259  \n...                         ...  \n11638                   -695031  \n11639                   -695031  \n11640                   -695030  \n11641                   -695027  \n11642                   -695026  \n\n[11643 rows x 10 columns]",
      "text/html": "<div>\n<style scoped>\n    .dataframe tbody tr th:only-of-type {\n        vertical-align: middle;\n    }\n\n    .dataframe tbody tr th {\n        vertical-align: top;\n    }\n\n    .dataframe thead th {\n        text-align: right;\n    }\n</style>\n<table border=\"1\" class=\"dataframe\">\n  <thead>\n    <tr style=\"text-align: right;\">\n      <th></th>\n      <th>R.Time (min)</th>\n      <th>1205_Blanco_before NaKa02_Medium Gradient_Output</th>\n      <th>1205_Blanco_before_naka_01_Output</th>\n      <th>1205_NaKa_01_duplo_Output</th>\n      <th>1205_NaKa_01_Output</th>\n      <th>1205_NaKa_02_Duplo_Output</th>\n      <th>1205_NaKa_02_Output</th>\n      <th>1505_Blanco_before_nAKa_0-40-95_Output</th>\n      <th>1505_NaKa_0-40-95_duplo_Output</th>\n      <th>1505_NaKa_0-40-95_Output</th>\n    </tr>\n  </thead>\n  <tbody>\n    <tr>\n      <th>0</th>\n      <td>0.00000</td>\n      <td>-2044.0</td>\n      <td>6839.0</td>\n      <td>-2200.0</td>\n      <td>-1494.0</td>\n      <td>-2546.0</td>\n      <td>-2281.0</td>\n      <td>9645.0</td>\n      <td>-695016</td>\n      <td>-693246</td>\n    </tr>\n    <tr>\n      <th>1</th>\n      <td>0.00833</td>\n      <td>-2044.0</td>\n      <td>6839.0</td>\n      <td>-2200.0</td>\n      <td>-1494.0</td>\n      <td>-2546.0</td>\n      <td>-2281.0</td>\n      <td>9645.0</td>\n      <td>-695016</td>\n      <td>-693246</td>\n    </tr>\n    <tr>\n      <th>2</th>\n      <td>0.01667</td>\n      <td>-2046.0</td>\n      <td>6901.0</td>\n      <td>-2199.0</td>\n      <td>-1498.0</td>\n      <td>-2546.0</td>\n      <td>-2278.0</td>\n      <td>9674.0</td>\n      <td>-695011</td>\n      <td>-693246</td>\n    </tr>\n    <tr>\n      <th>3</th>\n      <td>0.02500</td>\n      <td>-2046.0</td>\n      <td>6922.0</td>\n      <td>-2197.0</td>\n      <td>-1501.0</td>\n      <td>-2545.0</td>\n      <td>-2274.0</td>\n      <td>9693.0</td>\n      <td>-695006</td>\n      <td>-693250</td>\n    </tr>\n    <tr>\n      <th>4</th>\n      <td>0.03333</td>\n      <td>-2047.0</td>\n      <td>6904.0</td>\n      <td>-2197.0</td>\n      <td>-1502.0</td>\n      <td>-2544.0</td>\n      <td>-2272.0</td>\n      <td>9713.0</td>\n      <td>-695002</td>\n      <td>-693259</td>\n    </tr>\n    <tr>\n      <th>...</th>\n      <td>...</td>\n      <td>...</td>\n      <td>...</td>\n      <td>...</td>\n      <td>...</td>\n      <td>...</td>\n      <td>...</td>\n      <td>...</td>\n      <td>...</td>\n      <td>...</td>\n    </tr>\n    <tr>\n      <th>11638</th>\n      <td>96.98333</td>\n      <td>NaN</td>\n      <td>NaN</td>\n      <td>NaN</td>\n      <td>NaN</td>\n      <td>NaN</td>\n      <td>NaN</td>\n      <td>NaN</td>\n      <td>-695180</td>\n      <td>-695031</td>\n    </tr>\n    <tr>\n      <th>11639</th>\n      <td>96.99167</td>\n      <td>NaN</td>\n      <td>NaN</td>\n      <td>NaN</td>\n      <td>NaN</td>\n      <td>NaN</td>\n      <td>NaN</td>\n      <td>NaN</td>\n      <td>-695180</td>\n      <td>-695031</td>\n    </tr>\n    <tr>\n      <th>11640</th>\n      <td>97.00000</td>\n      <td>NaN</td>\n      <td>NaN</td>\n      <td>NaN</td>\n      <td>NaN</td>\n      <td>NaN</td>\n      <td>NaN</td>\n      <td>NaN</td>\n      <td>-695182</td>\n      <td>-695030</td>\n    </tr>\n    <tr>\n      <th>11641</th>\n      <td>97.00833</td>\n      <td>NaN</td>\n      <td>NaN</td>\n      <td>NaN</td>\n      <td>NaN</td>\n      <td>NaN</td>\n      <td>NaN</td>\n      <td>NaN</td>\n      <td>-695183</td>\n      <td>-695027</td>\n    </tr>\n    <tr>\n      <th>11642</th>\n      <td>97.01667</td>\n      <td>NaN</td>\n      <td>NaN</td>\n      <td>NaN</td>\n      <td>NaN</td>\n      <td>NaN</td>\n      <td>NaN</td>\n      <td>NaN</td>\n      <td>-695184</td>\n      <td>-695026</td>\n    </tr>\n  </tbody>\n</table>\n<p>11643 rows × 10 columns</p>\n</div>"
     },
     "execution_count": 460,
     "metadata": {},
     "output_type": "execute_result"
    }
   ],
   "source": [
    "read_txt(path)"
   ],
   "metadata": {
    "collapsed": false,
    "pycharm": {
     "name": "#%%\n"
    }
   }
  },
  {
   "cell_type": "code",
   "execution_count": 454,
   "outputs": [],
   "source": [
    "add_gradient(data)"
   ],
   "metadata": {
    "collapsed": false,
    "pycharm": {
     "name": "#%%\n"
    }
   }
  },
  {
   "cell_type": "code",
   "execution_count": 459,
   "outputs": [
    {
     "data": {
      "text/plain": "       R.Time (min)  1205_Blanco_before NaKa02_Medium Gradient_Output  \\\n0           0.00000                                           -2044.0   \n1           0.00833                                           -2044.0   \n2           0.01667                                           -2046.0   \n3           0.02500                                           -2046.0   \n4           0.03333                                           -2047.0   \n...             ...                                               ...   \n11638      96.98333                                               NaN   \n11639      96.99167                                               NaN   \n11640      97.00000                                               NaN   \n11641      97.00833                                               NaN   \n11642      97.01667                                               NaN   \n\n       1205_Blanco_before_naka_01_Output  1205_NaKa_01_duplo_Output  \\\n0                                 6839.0                    -2200.0   \n1                                 6839.0                    -2200.0   \n2                                 6901.0                    -2199.0   \n3                                 6922.0                    -2197.0   \n4                                 6904.0                    -2197.0   \n...                                  ...                        ...   \n11638                                NaN                        NaN   \n11639                                NaN                        NaN   \n11640                                NaN                        NaN   \n11641                                NaN                        NaN   \n11642                                NaN                        NaN   \n\n       1205_NaKa_01_Output  1205_NaKa_02_Duplo_Output  1205_NaKa_02_Output  \\\n0                  -1494.0                    -2546.0              -2281.0   \n1                  -1494.0                    -2546.0              -2281.0   \n2                  -1498.0                    -2546.0              -2278.0   \n3                  -1501.0                    -2545.0              -2274.0   \n4                  -1502.0                    -2544.0              -2272.0   \n...                    ...                        ...                  ...   \n11638                  NaN                        NaN                  NaN   \n11639                  NaN                        NaN                  NaN   \n11640                  NaN                        NaN                  NaN   \n11641                  NaN                        NaN                  NaN   \n11642                  NaN                        NaN                  NaN   \n\n       1505_Blanco_before_nAKa_0-40-95_Output  1505_NaKa_0-40-95_duplo_Output  \\\n0                                      9645.0                         -695016   \n1                                      9645.0                         -695016   \n2                                      9674.0                         -695011   \n3                                      9693.0                         -695006   \n4                                      9713.0                         -695002   \n...                                       ...                             ...   \n11638                                     NaN                         -695180   \n11639                                     NaN                         -695180   \n11640                                     NaN                         -695182   \n11641                                     NaN                         -695183   \n11642                                     NaN                         -695184   \n\n       1505_NaKa_0-40-95_Output  Gradient  \n0                       -693246       0.0  \n1                       -693246       0.0  \n2                       -693246       0.0  \n3                       -693250       0.0  \n4                       -693259       0.0  \n...                         ...       ...  \n11638                   -695031       0.0  \n11639                   -695031       0.0  \n11640                   -695030       0.0  \n11641                   -695027       0.0  \n11642                   -695026       0.0  \n\n[11643 rows x 11 columns]",
      "text/html": "<div>\n<style scoped>\n    .dataframe tbody tr th:only-of-type {\n        vertical-align: middle;\n    }\n\n    .dataframe tbody tr th {\n        vertical-align: top;\n    }\n\n    .dataframe thead th {\n        text-align: right;\n    }\n</style>\n<table border=\"1\" class=\"dataframe\">\n  <thead>\n    <tr style=\"text-align: right;\">\n      <th></th>\n      <th>R.Time (min)</th>\n      <th>1205_Blanco_before NaKa02_Medium Gradient_Output</th>\n      <th>1205_Blanco_before_naka_01_Output</th>\n      <th>1205_NaKa_01_duplo_Output</th>\n      <th>1205_NaKa_01_Output</th>\n      <th>1205_NaKa_02_Duplo_Output</th>\n      <th>1205_NaKa_02_Output</th>\n      <th>1505_Blanco_before_nAKa_0-40-95_Output</th>\n      <th>1505_NaKa_0-40-95_duplo_Output</th>\n      <th>1505_NaKa_0-40-95_Output</th>\n      <th>Gradient</th>\n    </tr>\n  </thead>\n  <tbody>\n    <tr>\n      <th>0</th>\n      <td>0.00000</td>\n      <td>-2044.0</td>\n      <td>6839.0</td>\n      <td>-2200.0</td>\n      <td>-1494.0</td>\n      <td>-2546.0</td>\n      <td>-2281.0</td>\n      <td>9645.0</td>\n      <td>-695016</td>\n      <td>-693246</td>\n      <td>0.0</td>\n    </tr>\n    <tr>\n      <th>1</th>\n      <td>0.00833</td>\n      <td>-2044.0</td>\n      <td>6839.0</td>\n      <td>-2200.0</td>\n      <td>-1494.0</td>\n      <td>-2546.0</td>\n      <td>-2281.0</td>\n      <td>9645.0</td>\n      <td>-695016</td>\n      <td>-693246</td>\n      <td>0.0</td>\n    </tr>\n    <tr>\n      <th>2</th>\n      <td>0.01667</td>\n      <td>-2046.0</td>\n      <td>6901.0</td>\n      <td>-2199.0</td>\n      <td>-1498.0</td>\n      <td>-2546.0</td>\n      <td>-2278.0</td>\n      <td>9674.0</td>\n      <td>-695011</td>\n      <td>-693246</td>\n      <td>0.0</td>\n    </tr>\n    <tr>\n      <th>3</th>\n      <td>0.02500</td>\n      <td>-2046.0</td>\n      <td>6922.0</td>\n      <td>-2197.0</td>\n      <td>-1501.0</td>\n      <td>-2545.0</td>\n      <td>-2274.0</td>\n      <td>9693.0</td>\n      <td>-695006</td>\n      <td>-693250</td>\n      <td>0.0</td>\n    </tr>\n    <tr>\n      <th>4</th>\n      <td>0.03333</td>\n      <td>-2047.0</td>\n      <td>6904.0</td>\n      <td>-2197.0</td>\n      <td>-1502.0</td>\n      <td>-2544.0</td>\n      <td>-2272.0</td>\n      <td>9713.0</td>\n      <td>-695002</td>\n      <td>-693259</td>\n      <td>0.0</td>\n    </tr>\n    <tr>\n      <th>...</th>\n      <td>...</td>\n      <td>...</td>\n      <td>...</td>\n      <td>...</td>\n      <td>...</td>\n      <td>...</td>\n      <td>...</td>\n      <td>...</td>\n      <td>...</td>\n      <td>...</td>\n      <td>...</td>\n    </tr>\n    <tr>\n      <th>11638</th>\n      <td>96.98333</td>\n      <td>NaN</td>\n      <td>NaN</td>\n      <td>NaN</td>\n      <td>NaN</td>\n      <td>NaN</td>\n      <td>NaN</td>\n      <td>NaN</td>\n      <td>-695180</td>\n      <td>-695031</td>\n      <td>0.0</td>\n    </tr>\n    <tr>\n      <th>11639</th>\n      <td>96.99167</td>\n      <td>NaN</td>\n      <td>NaN</td>\n      <td>NaN</td>\n      <td>NaN</td>\n      <td>NaN</td>\n      <td>NaN</td>\n      <td>NaN</td>\n      <td>-695180</td>\n      <td>-695031</td>\n      <td>0.0</td>\n    </tr>\n    <tr>\n      <th>11640</th>\n      <td>97.00000</td>\n      <td>NaN</td>\n      <td>NaN</td>\n      <td>NaN</td>\n      <td>NaN</td>\n      <td>NaN</td>\n      <td>NaN</td>\n      <td>NaN</td>\n      <td>-695182</td>\n      <td>-695030</td>\n      <td>0.0</td>\n    </tr>\n    <tr>\n      <th>11641</th>\n      <td>97.00833</td>\n      <td>NaN</td>\n      <td>NaN</td>\n      <td>NaN</td>\n      <td>NaN</td>\n      <td>NaN</td>\n      <td>NaN</td>\n      <td>NaN</td>\n      <td>-695183</td>\n      <td>-695027</td>\n      <td>0.0</td>\n    </tr>\n    <tr>\n      <th>11642</th>\n      <td>97.01667</td>\n      <td>NaN</td>\n      <td>NaN</td>\n      <td>NaN</td>\n      <td>NaN</td>\n      <td>NaN</td>\n      <td>NaN</td>\n      <td>NaN</td>\n      <td>-695184</td>\n      <td>-695026</td>\n      <td>0.0</td>\n    </tr>\n  </tbody>\n</table>\n<p>11643 rows × 11 columns</p>\n</div>"
     },
     "execution_count": 459,
     "metadata": {},
     "output_type": "execute_result"
    }
   ],
   "source": [
    "data"
   ],
   "metadata": {
    "collapsed": false,
    "pycharm": {
     "name": "#%%\n"
    }
   }
  },
  {
   "cell_type": "code",
   "execution_count": 341,
   "outputs": [],
   "source": [
    "def plot_graphs(df, list):\n",
    "    for i in list:\n",
    "        df.iloc[:,i].plot()\n",
    "    plt.legend(['aa'])"
   ],
   "metadata": {
    "collapsed": false,
    "pycharm": {
     "name": "#%%\n"
    }
   }
  }
 ],
 "metadata": {
  "kernelspec": {
   "display_name": "Python 3",
   "language": "python",
   "name": "python3"
  },
  "language_info": {
   "codemirror_mode": {
    "name": "ipython",
    "version": 2
   },
   "file_extension": ".py",
   "mimetype": "text/x-python",
   "name": "python",
   "nbconvert_exporter": "python",
   "pygments_lexer": "ipython2",
   "version": "2.7.6"
  }
 },
 "nbformat": 4,
 "nbformat_minor": 0
}