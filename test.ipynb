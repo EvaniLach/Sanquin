{
 "cells": [
  {
   "cell_type": "code",
   "execution_count": 66,
   "outputs": [],
   "source": [
    "import pandas as pd\n",
    "import numpy as np"
   ],
   "metadata": {
    "collapsed": false,
    "pycharm": {
     "name": "#%%\n"
    }
   }
  },
  {
   "cell_type": "code",
   "execution_count": 36,
   "outputs": [],
   "source": [
    "results_major = pd.read_csv(r'C:\\Users\\evani\\OneDrive\\AI leiden\\Sanquin\\Github Merel\\RL_matching-main\\results\\request_scratch\\a0.1_g0.5_b50_0\\request_9.csv')\n",
    "results_C = pd.read_csv(r\"C:\\Users\\evani\\OneDrive\\AI leiden\\Sanquin\\Github Merel\\RL_matching-main\\results\\request_scratch\\a0.1_g0.5_b50_['C']\\request_9.csv\")\n",
    "results_Cc = pd.read_csv(r\"C:\\Users\\evani\\OneDrive\\AI leiden\\Sanquin\\Github Merel\\RL_matching-main\\results\\request_scratch\\a0.1_g0.5_b50_['C', 'c']\\request_9.csv\")\n",
    "results_CcE = pd.read_csv(r\"C:\\Users\\evani\\OneDrive\\AI leiden\\Sanquin\\Github Merel\\RL_matching-main\\results\\request_scratch\\a0.1_g0.5_b50_['C', 'c', 'E']\\request_9.csv\")\n",
    "results_CcEe = pd.read_csv(r\"C:\\Users\\evani\\OneDrive\\AI leiden\\Sanquin\\Github Merel\\RL_matching-main\\results\\request_scratch\\a0.1_g0.5_b50_['C', 'c', 'E', 'e']\\request_9.csv\")\n",
    "results_CcEeK = pd.read_csv(r\"C:\\Users\\evani\\OneDrive\\AI leiden\\Sanquin\\Github Merel\\RL_matching-main\\results\\request_scratch\\a0.1_g0.5_b50_['C', 'c', 'E', 'e', 'K']\\request_9.csv\")"
   ],
   "metadata": {
    "collapsed": false,
    "pycharm": {
     "name": "#%%\n"
    }
   }
  },
  {
   "cell_type": "code",
   "execution_count": 49,
   "outputs": [
    {
     "data": {
      "text/plain": "     day  logged location       model name     supply scenario  \\\n0      0    True    reg_9  request_scratch  cau100_afr0_asi0_9   \n1      1    True    reg_9  request_scratch  cau100_afr0_asi0_9   \n2      2    True    reg_9  request_scratch  cau100_afr0_asi0_9   \n3      3    True    reg_9  request_scratch  cau100_afr0_asi0_9   \n4      4    True    reg_9  request_scratch  cau100_afr0_asi0_9   \n..   ...     ...      ...              ...                 ...   \n430  430    True    reg_9  request_scratch  cau100_afr0_asi0_9   \n431  431    True    reg_9  request_scratch  cau100_afr0_asi0_9   \n432  432    True    reg_9  request_scratch  cau100_afr0_asi0_9   \n433  433    True    reg_9  request_scratch  cau100_afr0_asi0_9   \n434  434    True    reg_9  request_scratch  cau100_afr0_asi0_9   \n\n    demand scenario  avg daily demand  inventory size  test days  init days  \\\n0        regional_9                50             150        365         70   \n1        regional_9                50             150        365         70   \n2        regional_9                50             150        365         70   \n3        regional_9                50             150        365         70   \n4        regional_9                50             150        365         70   \n..              ...               ...             ...        ...        ...   \n430      regional_9                50             150        365         70   \n431      regional_9                50             150        365         70   \n432      regional_9                50             150        365         70   \n433      regional_9                50             150        365         70   \n434      regional_9                50             150        365         70   \n\n     ...  num AB+ in inventory  reward  issued but nonexistent  \\\n0    ...                     0     0.0                       0   \n1    ...                     0     0.0                       0   \n2    ...                     0   -60.0                       1   \n3    ...                     0  -720.0                      12   \n4    ...                     0  -660.0                      11   \n..   ...                   ...     ...                     ...   \n430  ...                     0 -2706.0                      41   \n431  ...                     0 -1800.0                      30   \n432  ...                     0 -1266.0                      20   \n433  ...                     0 -1260.0                      21   \n434  ...                     0 -1280.0                      19   \n\n     issued but discarded  num outdates  num shortages  num mismatches A  \\\n0                       0           0.0              0                 0   \n1                       0           0.0              0                 0   \n2                       0           0.0              1                 0   \n3                       0           0.0             12                 0   \n4                       0           0.0             11                 0   \n..                    ...           ...            ...               ...   \n430                     0         246.0             41                 0   \n431                     0           0.0             30                 0   \n432                     0          66.0             20                 0   \n433                     0           0.0             21                 0   \n434                     0         140.0             19                 0   \n\n     num mismatches B  num mismatches D  num mismatches C  \n0                   0                 0                 0  \n1                   0                 0                 0  \n2                   0                 0                 0  \n3                   0                 0                 0  \n4                   0                 0                 0  \n..                ...               ...               ...  \n430                 0                 0                 0  \n431                 0                 0                 0  \n432                 0                 0                 0  \n433                 0                 0                 0  \n434                 0                 0                 0  \n\n[435 rows x 52 columns]",
      "text/html": "<div>\n<style scoped>\n    .dataframe tbody tr th:only-of-type {\n        vertical-align: middle;\n    }\n\n    .dataframe tbody tr th {\n        vertical-align: top;\n    }\n\n    .dataframe thead th {\n        text-align: right;\n    }\n</style>\n<table border=\"1\" class=\"dataframe\">\n  <thead>\n    <tr style=\"text-align: right;\">\n      <th></th>\n      <th>day</th>\n      <th>logged</th>\n      <th>location</th>\n      <th>model name</th>\n      <th>supply scenario</th>\n      <th>demand scenario</th>\n      <th>avg daily demand</th>\n      <th>inventory size</th>\n      <th>test days</th>\n      <th>init days</th>\n      <th>...</th>\n      <th>num AB+ in inventory</th>\n      <th>reward</th>\n      <th>issued but nonexistent</th>\n      <th>issued but discarded</th>\n      <th>num outdates</th>\n      <th>num shortages</th>\n      <th>num mismatches A</th>\n      <th>num mismatches B</th>\n      <th>num mismatches D</th>\n      <th>num mismatches C</th>\n    </tr>\n  </thead>\n  <tbody>\n    <tr>\n      <th>0</th>\n      <td>0</td>\n      <td>True</td>\n      <td>reg_9</td>\n      <td>request_scratch</td>\n      <td>cau100_afr0_asi0_9</td>\n      <td>regional_9</td>\n      <td>50</td>\n      <td>150</td>\n      <td>365</td>\n      <td>70</td>\n      <td>...</td>\n      <td>0</td>\n      <td>0.0</td>\n      <td>0</td>\n      <td>0</td>\n      <td>0.0</td>\n      <td>0</td>\n      <td>0</td>\n      <td>0</td>\n      <td>0</td>\n      <td>0</td>\n    </tr>\n    <tr>\n      <th>1</th>\n      <td>1</td>\n      <td>True</td>\n      <td>reg_9</td>\n      <td>request_scratch</td>\n      <td>cau100_afr0_asi0_9</td>\n      <td>regional_9</td>\n      <td>50</td>\n      <td>150</td>\n      <td>365</td>\n      <td>70</td>\n      <td>...</td>\n      <td>0</td>\n      <td>0.0</td>\n      <td>0</td>\n      <td>0</td>\n      <td>0.0</td>\n      <td>0</td>\n      <td>0</td>\n      <td>0</td>\n      <td>0</td>\n      <td>0</td>\n    </tr>\n    <tr>\n      <th>2</th>\n      <td>2</td>\n      <td>True</td>\n      <td>reg_9</td>\n      <td>request_scratch</td>\n      <td>cau100_afr0_asi0_9</td>\n      <td>regional_9</td>\n      <td>50</td>\n      <td>150</td>\n      <td>365</td>\n      <td>70</td>\n      <td>...</td>\n      <td>0</td>\n      <td>-60.0</td>\n      <td>1</td>\n      <td>0</td>\n      <td>0.0</td>\n      <td>1</td>\n      <td>0</td>\n      <td>0</td>\n      <td>0</td>\n      <td>0</td>\n    </tr>\n    <tr>\n      <th>3</th>\n      <td>3</td>\n      <td>True</td>\n      <td>reg_9</td>\n      <td>request_scratch</td>\n      <td>cau100_afr0_asi0_9</td>\n      <td>regional_9</td>\n      <td>50</td>\n      <td>150</td>\n      <td>365</td>\n      <td>70</td>\n      <td>...</td>\n      <td>0</td>\n      <td>-720.0</td>\n      <td>12</td>\n      <td>0</td>\n      <td>0.0</td>\n      <td>12</td>\n      <td>0</td>\n      <td>0</td>\n      <td>0</td>\n      <td>0</td>\n    </tr>\n    <tr>\n      <th>4</th>\n      <td>4</td>\n      <td>True</td>\n      <td>reg_9</td>\n      <td>request_scratch</td>\n      <td>cau100_afr0_asi0_9</td>\n      <td>regional_9</td>\n      <td>50</td>\n      <td>150</td>\n      <td>365</td>\n      <td>70</td>\n      <td>...</td>\n      <td>0</td>\n      <td>-660.0</td>\n      <td>11</td>\n      <td>0</td>\n      <td>0.0</td>\n      <td>11</td>\n      <td>0</td>\n      <td>0</td>\n      <td>0</td>\n      <td>0</td>\n    </tr>\n    <tr>\n      <th>...</th>\n      <td>...</td>\n      <td>...</td>\n      <td>...</td>\n      <td>...</td>\n      <td>...</td>\n      <td>...</td>\n      <td>...</td>\n      <td>...</td>\n      <td>...</td>\n      <td>...</td>\n      <td>...</td>\n      <td>...</td>\n      <td>...</td>\n      <td>...</td>\n      <td>...</td>\n      <td>...</td>\n      <td>...</td>\n      <td>...</td>\n      <td>...</td>\n      <td>...</td>\n      <td>...</td>\n    </tr>\n    <tr>\n      <th>430</th>\n      <td>430</td>\n      <td>True</td>\n      <td>reg_9</td>\n      <td>request_scratch</td>\n      <td>cau100_afr0_asi0_9</td>\n      <td>regional_9</td>\n      <td>50</td>\n      <td>150</td>\n      <td>365</td>\n      <td>70</td>\n      <td>...</td>\n      <td>0</td>\n      <td>-2706.0</td>\n      <td>41</td>\n      <td>0</td>\n      <td>246.0</td>\n      <td>41</td>\n      <td>0</td>\n      <td>0</td>\n      <td>0</td>\n      <td>0</td>\n    </tr>\n    <tr>\n      <th>431</th>\n      <td>431</td>\n      <td>True</td>\n      <td>reg_9</td>\n      <td>request_scratch</td>\n      <td>cau100_afr0_asi0_9</td>\n      <td>regional_9</td>\n      <td>50</td>\n      <td>150</td>\n      <td>365</td>\n      <td>70</td>\n      <td>...</td>\n      <td>0</td>\n      <td>-1800.0</td>\n      <td>30</td>\n      <td>0</td>\n      <td>0.0</td>\n      <td>30</td>\n      <td>0</td>\n      <td>0</td>\n      <td>0</td>\n      <td>0</td>\n    </tr>\n    <tr>\n      <th>432</th>\n      <td>432</td>\n      <td>True</td>\n      <td>reg_9</td>\n      <td>request_scratch</td>\n      <td>cau100_afr0_asi0_9</td>\n      <td>regional_9</td>\n      <td>50</td>\n      <td>150</td>\n      <td>365</td>\n      <td>70</td>\n      <td>...</td>\n      <td>0</td>\n      <td>-1266.0</td>\n      <td>20</td>\n      <td>0</td>\n      <td>66.0</td>\n      <td>20</td>\n      <td>0</td>\n      <td>0</td>\n      <td>0</td>\n      <td>0</td>\n    </tr>\n    <tr>\n      <th>433</th>\n      <td>433</td>\n      <td>True</td>\n      <td>reg_9</td>\n      <td>request_scratch</td>\n      <td>cau100_afr0_asi0_9</td>\n      <td>regional_9</td>\n      <td>50</td>\n      <td>150</td>\n      <td>365</td>\n      <td>70</td>\n      <td>...</td>\n      <td>0</td>\n      <td>-1260.0</td>\n      <td>21</td>\n      <td>0</td>\n      <td>0.0</td>\n      <td>21</td>\n      <td>0</td>\n      <td>0</td>\n      <td>0</td>\n      <td>0</td>\n    </tr>\n    <tr>\n      <th>434</th>\n      <td>434</td>\n      <td>True</td>\n      <td>reg_9</td>\n      <td>request_scratch</td>\n      <td>cau100_afr0_asi0_9</td>\n      <td>regional_9</td>\n      <td>50</td>\n      <td>150</td>\n      <td>365</td>\n      <td>70</td>\n      <td>...</td>\n      <td>0</td>\n      <td>-1280.0</td>\n      <td>19</td>\n      <td>0</td>\n      <td>140.0</td>\n      <td>19</td>\n      <td>0</td>\n      <td>0</td>\n      <td>0</td>\n      <td>0</td>\n    </tr>\n  </tbody>\n</table>\n<p>435 rows × 52 columns</p>\n</div>"
     },
     "execution_count": 49,
     "metadata": {},
     "output_type": "execute_result"
    }
   ],
   "source": [
    "results_C"
   ],
   "metadata": {
    "collapsed": false,
    "pycharm": {
     "name": "#%%\n"
    }
   }
  },
  {
   "cell_type": "markdown",
   "source": [
    "The state space is represented by the concatenation of 2 matrices.\n",
    "The first one (I) represents the inventory of the bloodbank. Row numbers correspond to a specific blood group. So, when only using the 3 major antigens, we have 8 rows. The columns represent the age of the blood group,"
   ],
   "metadata": {
    "collapsed": false,
    "pycharm": {
     "name": "#%% md\n"
    }
   }
  },
  {
   "cell_type": "code",
   "execution_count": 96,
   "outputs": [],
   "source": [
    "I =np.random.randint(50, size=(8, 15))"
   ],
   "metadata": {
    "collapsed": false,
    "pycharm": {
     "name": "#%%\n"
    }
   }
  },
  {
   "cell_type": "code",
   "execution_count": 102,
   "outputs": [],
   "source": [
    "R =np.random.randint(50, size=(8, 8))"
   ],
   "metadata": {
    "collapsed": false,
    "pycharm": {
     "name": "#%%\n"
    }
   }
  },
  {
   "cell_type": "code",
   "execution_count": 98,
   "outputs": [],
   "source": [
    "df = pd.DataFrame(I, columns = [i for i in range(0, 15)])"
   ],
   "metadata": {
    "collapsed": false,
    "pycharm": {
     "name": "#%%\n"
    }
   }
  },
  {
   "cell_type": "code",
   "execution_count": 103,
   "outputs": [],
   "source": [
    "df_R = pd.DataFrame(R, columns = [i for i in range(0, 8)])"
   ],
   "metadata": {
    "collapsed": false,
    "pycharm": {
     "name": "#%%\n"
    }
   }
  },
  {
   "cell_type": "code",
   "execution_count": 101,
   "outputs": [
    {
     "name": "stdout",
     "output_type": "stream",
     "text": [
      "\\begin{tabular}{lrrrrrrrrrrrrrrr}\n",
      "\\toprule\n",
      "{} &  0  &  1  &  2  &  3  &  4  &  5  &  6  &  7  &  8  &  9  &  10 &  11 &  12 &  13 &  14 \\\\\n",
      "\\midrule\n",
      "0 &  36 &  39 &   5 &  21 &  21 &   8 &  38 &  41 &  13 &  17 &  38 &  39 &  15 &  41 &  42 \\\\\n",
      "1 &  13 &  10 &  47 &  40 &  48 &   2 &  42 &  31 &  45 &  43 &  20 &  16 &  24 &  32 &  13 \\\\\n",
      "2 &  13 &  20 &   4 &   9 &   3 &  37 &  10 &  13 &  35 &  22 &  29 &  44 &  30 &  15 &  24 \\\\\n",
      "3 &  25 &  26 &   7 &  35 &  33 &   5 &  46 &   5 &  34 &  47 &  39 &  43 &  37 &  39 &  11 \\\\\n",
      "4 &   2 &  24 &  13 &   4 &  39 &  36 &  31 &  25 &  25 &  21 &  12 &  24 &  22 &  22 &  40 \\\\\n",
      "5 &  31 &  21 &  34 &  39 &  21 &   5 &  27 &   1 &  14 &   8 &   1 &  25 &  42 &   8 &  40 \\\\\n",
      "6 &  34 &  30 &  38 &   6 &  20 &  41 &  40 &  26 &   5 &  24 &   3 &  24 &  45 &  33 &  31 \\\\\n",
      "7 &  28 &  45 &  24 &  28 &  22 &  12 &   0 &   7 &  40 &  27 &  47 &  19 &  48 &  27 &  19 \\\\\n",
      "\\bottomrule\n",
      "\\end{tabular}\n",
      "\n"
     ]
    },
    {
     "name": "stderr",
     "output_type": "stream",
     "text": [
      "C:\\Users\\evani\\AppData\\Local\\Temp\\ipykernel_16472\\3644910712.py:1: FutureWarning: In future versions `DataFrame.to_latex` is expected to utilise the base implementation of `Styler.to_latex` for formatting and rendering. The arguments signature may therefore change. It is recommended instead to use `DataFrame.style.to_latex` which also contains additional functionality.\n",
      "  print(df.to_latex(index=True,\n"
     ]
    }
   ],
   "source": [
    "print(df.to_latex(index=True,\n",
    "                  formatters={\"name\": str.upper},\n",
    "                  float_format=\"{:.1f}\".format,\n",
    "))"
   ],
   "metadata": {
    "collapsed": false,
    "pycharm": {
     "name": "#%%\n"
    }
   }
  },
  {
   "cell_type": "code",
   "execution_count": 105,
   "outputs": [
    {
     "name": "stdout",
     "output_type": "stream",
     "text": [
      "\\begin{tabular}{lrrrrrrrr}\n",
      "\\toprule\n",
      "{} &   0 &   1 &   2 &   3 &   4 &   5 &   6 &   7 \\\\\n",
      "\\midrule\n",
      "0 &   5 &  31 &  26 &  12 &  41 &  47 &  29 &   6 \\\\\n",
      "1 &  12 &  24 &  28 &  36 &  40 &  11 &  14 &  16 \\\\\n",
      "2 &  12 &   4 &  28 &   5 &   8 &  16 &  12 &  10 \\\\\n",
      "3 &  36 &  19 &  32 &  30 &  42 &   5 &  35 &  29 \\\\\n",
      "4 &   9 &  16 &   8 &  22 &  17 &  23 &   3 &  30 \\\\\n",
      "5 &  13 &  28 &  11 &   1 &  17 &  10 &   0 &  44 \\\\\n",
      "6 &   6 &  40 &  34 &  21 &  11 &  35 &  49 &  34 \\\\\n",
      "7 &   3 &   2 &  18 &   1 &  15 &  34 &  41 &   8 \\\\\n",
      "\\bottomrule\n",
      "\\end{tabular}\n",
      "\n"
     ]
    },
    {
     "name": "stderr",
     "output_type": "stream",
     "text": [
      "C:\\Users\\evani\\AppData\\Local\\Temp\\ipykernel_16472\\808679297.py:1: FutureWarning: In future versions `DataFrame.to_latex` is expected to utilise the base implementation of `Styler.to_latex` for formatting and rendering. The arguments signature may therefore change. It is recommended instead to use `DataFrame.style.to_latex` which also contains additional functionality.\n",
      "  print(df_R.to_latex(index=True,\n"
     ]
    }
   ],
   "source": [
    "print(df_R.to_latex(index=True,\n",
    "                  formatters={\"name\": str.upper},\n",
    "                  float_format=\"{:.1f}\".format,\n",
    "))"
   ],
   "metadata": {
    "collapsed": false,
    "pycharm": {
     "name": "#%%\n"
    }
   }
  },
  {
   "cell_type": "code",
   "execution_count": 108,
   "outputs": [
    {
     "name": "stdout",
     "output_type": "stream",
     "text": [
      "1\n"
     ]
    }
   ],
   "source": [
    "method = 'gg'\n",
    "if method == 'gg':\n",
    "    print(1)"
   ],
   "metadata": {
    "collapsed": false,
    "pycharm": {
     "name": "#%%\n"
    }
   }
  },
  {
   "cell_type": "code",
   "execution_count": 109,
   "outputs": [],
   "source": [
    "import gym"
   ],
   "metadata": {
    "collapsed": false,
    "pycharm": {
     "name": "#%%\n"
    }
   }
  },
  {
   "cell_type": "code",
   "execution_count": 113,
   "outputs": [],
   "source": [
    "a = gym.spaces.Box(low=0, high=1, shape=(8,12))"
   ],
   "metadata": {
    "collapsed": false,
    "pycharm": {
     "name": "#%%\n"
    }
   }
  },
  {
   "cell_type": "code",
   "execution_count": 114,
   "outputs": [
    {
     "data": {
      "text/plain": "array([[0.56597227, 0.83348686, 0.20760684, 0.28522274, 0.17643097,\n        0.41823846, 0.94395393, 0.40547213, 0.9903006 , 0.5041588 ,\n        0.36440346, 0.76484555],\n       [0.528997  , 0.64214665, 0.8657515 , 0.1511397 , 0.19352463,\n        0.17546308, 0.48731202, 0.3047158 , 0.50411636, 0.3100873 ,\n        0.42787433, 0.03890758],\n       [0.76358116, 0.5459359 , 0.4481337 , 0.6643251 , 0.42671213,\n        0.8402957 , 0.95579773, 0.19346738, 0.82047546, 0.2567879 ,\n        0.36096844, 0.4868317 ],\n       [0.6394495 , 0.24164802, 0.21790226, 0.8313884 , 0.48842832,\n        0.3706463 , 0.6461815 , 0.23648632, 0.0026526 , 0.93650246,\n        0.9772651 , 0.619549  ],\n       [0.98582613, 0.48330545, 0.743099  , 0.8361991 , 0.1832024 ,\n        0.19231431, 0.8179573 , 0.49333435, 0.25810903, 0.9726866 ,\n        0.16880597, 0.9494086 ],\n       [0.8173341 , 0.9557786 , 0.42996922, 0.740028  , 0.17757867,\n        0.17315756, 0.09030026, 0.28147358, 0.2042423 , 0.04711767,\n        0.6702894 , 0.73143756],\n       [0.5592462 , 0.60028416, 0.93956095, 0.459531  , 0.65225995,\n        0.33936012, 0.2237405 , 0.10503209, 0.65732723, 0.65832955,\n        0.30493596, 0.8505151 ],\n       [0.13752136, 0.8182912 , 0.6917193 , 0.5280269 , 0.4585726 ,\n        0.28001836, 0.3796778 , 0.762048  , 0.2505602 , 0.55731255,\n        0.7054504 , 0.51900226]], dtype=float32)"
     },
     "execution_count": 114,
     "metadata": {},
     "output_type": "execute_result"
    }
   ],
   "source": [
    "a.sample()"
   ],
   "metadata": {
    "collapsed": false,
    "pycharm": {
     "name": "#%%\n"
    }
   }
  },
  {
   "cell_type": "markdown",
   "source": [],
   "metadata": {
    "collapsed": false,
    "pycharm": {
     "name": "#%% md\n"
    }
   }
  },
  {
   "cell_type": "markdown",
   "source": [],
   "metadata": {
    "collapsed": false,
    "pycharm": {
     "name": "#%% md\n"
    }
   }
  }
 ],
 "metadata": {
  "kernelspec": {
   "display_name": "Python 3",
   "language": "python",
   "name": "python3"
  },
  "language_info": {
   "codemirror_mode": {
    "name": "ipython",
    "version": 2
   },
   "file_extension": ".py",
   "mimetype": "text/x-python",
   "name": "python",
   "nbconvert_exporter": "python",
   "pygments_lexer": "ipython2",
   "version": "2.7.6"
  }
 },
 "nbformat": 4,
 "nbformat_minor": 0
}