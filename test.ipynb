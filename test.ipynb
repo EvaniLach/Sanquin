{
 "cells": [
  {
   "cell_type": "code",
   "execution_count": 148,
   "outputs": [],
   "source": [
    "import numpy as np\n",
    "import os"
   ],
   "metadata": {
    "collapsed": false,
    "pycharm": {
     "name": "#%%\n"
    }
   }
  },
  {
   "cell_type": "code",
   "execution_count": 6,
   "outputs": [],
   "source": [
    "dir = 'NN training data/1_1/states'"
   ],
   "metadata": {
    "collapsed": false,
    "pycharm": {
     "name": "#%%\n"
    }
   }
  },
  {
   "cell_type": "code",
   "execution_count": 9,
   "outputs": [],
   "source": [
    "feature_indices = [(i, i + 1) for i in range(24) if (i % 3 == 0)]"
   ],
   "metadata": {
    "collapsed": false,
    "pycharm": {
     "name": "#%%\n"
    }
   }
  },
  {
   "cell_type": "code",
   "execution_count": 10,
   "outputs": [
    {
     "data": {
      "text/plain": "[(0, 1), (3, 4), (6, 7), (9, 10), (12, 13), (15, 16), (18, 19), (21, 22)]"
     },
     "execution_count": 10,
     "metadata": {},
     "output_type": "execute_result"
    }
   ],
   "source": [
    "feature_indices"
   ],
   "metadata": {
    "collapsed": false,
    "pycharm": {
     "name": "#%%\n"
    }
   }
  },
  {
   "cell_type": "code",
   "execution_count": 21,
   "outputs": [],
   "source": [
    "f = np.load(dir + '/states_0_0.pickle', allow_pickle=True)\n",
    "f_b = f.copy()"
   ],
   "metadata": {
    "collapsed": false,
    "pycharm": {
     "name": "#%%\n"
    }
   }
  },
  {
   "cell_type": "code",
   "execution_count": 49,
   "outputs": [],
   "source": [
    "max_r_list = [0] * 8\n",
    "max_i_list = [0] * 8\n",
    "episode = 0\n",
    "max_r = 0\n",
    "max_i = 0\n",
    "# for filename in os.listdir(dir):\n",
    "#     f = np.load(os.path.join(dir, filename), allow_pickle=True)\n",
    "bg = 0\n",
    "for i in feature_indices:\n",
    "    if np.amax(f[:, i[0]]) > max_r_list[bg]:\n",
    "        max_r_list[bg] = np.amax(f[:, i[0]])\n",
    "    if np.amax(f[:, i[1]]) > max_i_list[bg]:\n",
    "        max_i_list[bg] = np.amax(f[:, i[1]])\n",
    "    # if (episode > 0) and (episode % 13 == 0):\n",
    "    bg += 1\n",
    "# episode += 1"
   ],
   "metadata": {
    "collapsed": false,
    "pycharm": {
     "name": "#%%\n"
    }
   }
  },
  {
   "cell_type": "code",
   "execution_count": 50,
   "outputs": [
    {
     "data": {
      "text/plain": "[35.0, 70.0, 7.0, 20.0, 20.0, 61.0, 4.0, 7.0]"
     },
     "execution_count": 50,
     "metadata": {},
     "output_type": "execute_result"
    }
   ],
   "source": [
    "max_r_list"
   ],
   "metadata": {
    "collapsed": false,
    "pycharm": {
     "name": "#%%\n"
    }
   }
  },
  {
   "cell_type": "code",
   "execution_count": 51,
   "outputs": [
    {
     "data": {
      "text/plain": "[15.0, 58.0, 5.0, 13.0, 14.0, 50.0, 4.0, 8.0]"
     },
     "execution_count": 51,
     "metadata": {},
     "output_type": "execute_result"
    }
   ],
   "source": [
    "max_i_list"
   ],
   "metadata": {
    "collapsed": false,
    "pycharm": {
     "name": "#%%\n"
    }
   }
  },
  {
   "cell_type": "code",
   "execution_count": 7,
   "outputs": [],
   "source": [
    "# Check max amount of requests and inventory amount per episode to see if normalization is necessary\n",
    "max_r_list = []\n",
    "max_i_list = []\n",
    "file_r = ''\n",
    "file_i = ''\n",
    "j = 0\n",
    "max_r = 0\n",
    "max_i = 0\n",
    "for filename in os.listdir(dir):\n",
    "    f = np.load(os.path.join(dir, filename), allow_pickle=True)\n",
    "for i in range(24):\n",
    "    if\n",
    "i % 3 == 0:\n",
    "if np.amax(f[:, i]) > max_r:\n",
    "    max_r = np.amax(f[:, i])\n",
    "if np.amax(f[:, i + 1]) > max_i:\n",
    "    max_i = np.amax(f[:, i + 1])\n",
    "if (j > 0) and (j % 13 == 0):\n",
    "    max_r_list.append(max_r)\n",
    "max_i_list.append(max_i)\n",
    "max_r = 0\n",
    "max_i = 0\n",
    "j += 1"
   ],
   "metadata": {
    "collapsed": false,
    "pycharm": {
     "name": "#%%\n"
    }
   }
  },
  {
   "cell_type": "code",
   "execution_count": null,
   "outputs": [],
   "source": [
    "max_r_list = []\n",
    "max_i_list = []\n",
    "j = 0\n",
    "max_r = 0\n",
    "max_i = 0\n",
    "for filename in os.listdir(dir):\n",
    "    f = np.load(os.path.join(dir, filename), allow_pickle=True)\n",
    "for i in range(24):\n",
    "    if\n",
    "i % 3 == 0:\n",
    "if np.amax(f[:, i]) > max_r:\n",
    "    max_r = np.amax(f[:, i])\n",
    "if np.amax(f[:, i + 1]) > max_i:\n",
    "    max_i = np.amax(f[:, i + 1])\n",
    "if (j > 0) and (j % 13 == 0):\n",
    "    max_r_list.append(max_r)\n",
    "max_i_list.append(max_i)\n",
    "max_r = 0\n",
    "max_i = 0\n",
    "j += 1\n"
   ],
   "metadata": {
    "collapsed": false,
    "pycharm": {
     "name": "#%%\n"
    }
   }
  },
  {
   "cell_type": "code",
   "execution_count": 8,
   "outputs": [
    {
     "data": {
      "text/plain": "24"
     },
     "execution_count": 8,
     "metadata": {},
     "output_type": "execute_result"
    }
   ],
   "source": [
    "# Max amount of requests per episode in any state\n",
    "len(max_r_list)"
   ],
   "metadata": {
    "collapsed": false,
    "pycharm": {
     "name": "#%%\n"
    }
   }
  },
  {
   "cell_type": "code",
   "execution_count": 156,
   "outputs": [
    {
     "data": {
      "text/plain": "[72.0,\n 91.0,\n 78.0,\n 70.0,\n 78.0,\n 83.0,\n 75.0,\n 72.0,\n 102.0,\n 82.0,\n 64.0,\n 64.0,\n 80.0,\n 77.0,\n 75.0,\n 78.0,\n 72.0,\n 90.0,\n 77.0,\n 76.0,\n 91.0,\n 75.0,\n 70.0,\n 71.0]"
     },
     "execution_count": 156,
     "metadata": {},
     "output_type": "execute_result"
    }
   ],
   "source": [
    "# Max inventory of any blood group per episode in any state\n",
    "max_i_list"
   ],
   "metadata": {
    "collapsed": false,
    "pycharm": {
     "name": "#%%\n"
    }
   }
  },
  {
   "cell_type": "code",
   "execution_count": 151,
   "outputs": [],
   "source": [
    "feature_indices = [(i, i + 1) for i in range(24) if (i % 3 == 0)]"
   ],
   "metadata": {
    "collapsed": false,
    "pycharm": {
     "name": "#%%\n"
    }
   }
  },
  {
   "cell_type": "code",
   "execution_count": 310,
   "outputs": [],
   "source": [
    "matrix = np.load(dir + '/states_0_0.pickle', allow_pickle=True)\n",
    "matrix_b = matrix.copy()"
   ],
   "metadata": {
    "collapsed": false,
    "pycharm": {
     "name": "#%%\n"
    }
   }
  },
  {
   "cell_type": "code",
   "execution_count": 150,
   "outputs": [],
   "source": [
    "dir = \"C:/Users/evani/OneDrive/AI leiden/Sanquin/RL_matching-main/NN training data/1_1/states\""
   ],
   "metadata": {
    "collapsed": false,
    "pycharm": {
     "name": "#%%\n"
    }
   }
  },
  {
   "cell_type": "code",
   "execution_count": 152,
   "outputs": [],
   "source": [
    "array_list = []\n",
    "for file in os.listdir(dir):\n",
    "    f = os.path.join(dir, file)\n",
    "    states = np.load(f, allow_pickle=True)\n",
    "    array_list.append(states)\n",
    "\n",
    "full = np.vstack(array_list)"
   ],
   "metadata": {
    "collapsed": false,
    "pycharm": {
     "name": "#%%\n"
    }
   }
  },
  {
   "cell_type": "code",
   "execution_count": 153,
   "outputs": [],
   "source": [
    "matrix = full.copy()"
   ],
   "metadata": {
    "collapsed": false,
    "pycharm": {
     "name": "#%%\n"
    }
   }
  },
  {
   "cell_type": "code",
   "execution_count": 123,
   "outputs": [],
   "source": [
    "min_max = []\n",
    "\n",
    "for i in feature_indices:\n",
    "    min_max.append((np.amin(matrix[:, i[0]]), np.amax(matrix[:, i[0]])))\n",
    "    min_max.append((np.amin(matrix[:, i[1]]), np.amax(matrix[:, i[1]])))\n",
    "\n",
    "for i in range(len(matrix)):\n",
    "    index = 0\n",
    "    for j in feature_indices:\n",
    "        matrix[i, j[0]] = (\n",
    "                (matrix[i, j[0]] - min_max[index][0]) / (min_max[index][1] - min_max[index][0]))\n",
    "        matrix[i, j[1]] = (\n",
    "                (matrix[i, j[1]] - min_max[index + 1][0]) / (min_max[index + 1][1] - min_max[index + 1][0]))\n",
    "        index += 2"
   ],
   "metadata": {
    "collapsed": false,
    "pycharm": {
     "name": "#%%\n"
    }
   }
  },
  {
   "cell_type": "code",
   "execution_count": 154,
   "outputs": [],
   "source": [
    "min_max = []\n",
    "\n",
    "for i in feature_indices:\n",
    "    min_max.append((np.amin(matrix[:, i[0]]), np.amax(matrix[:, i[0]])))\n",
    "    min_max.append((np.amin(matrix[:, i[1]]), np.amax(matrix[:, i[1]])))"
   ],
   "metadata": {
    "collapsed": false,
    "pycharm": {
     "name": "#%%\n"
    }
   }
  },
  {
   "cell_type": "code",
   "execution_count": 155,
   "outputs": [
    {
     "data": {
      "text/plain": "[(0.0, 44.0),\n (0.0, 26.0),\n (0.0, 79.0),\n (0.0, 91.0),\n (0.0, 10.0),\n (0.0, 14.0),\n (0.0, 22.0),\n (0.0, 28.0),\n (0.0, 25.0),\n (0.0, 31.0),\n (0.0, 69.0),\n (0.0, 102.0),\n (0.0, 6.0),\n (0.0, 9.0),\n (0.0, 11.0),\n (0.0, 17.0)]"
     },
     "execution_count": 155,
     "metadata": {},
     "output_type": "execute_result"
    }
   ],
   "source": [
    "min_max"
   ],
   "metadata": {
    "collapsed": false,
    "pycharm": {
     "name": "#%%\n"
    }
   }
  },
  {
   "cell_type": "code",
   "execution_count": 149,
   "outputs": [
    {
     "data": {
      "text/plain": "array([[0.45454545, 0.11538462, 1.        , ..., 0.18181818, 0.        ,\n        0.        ],\n       [0.43181818, 0.07692308, 1.        , ..., 0.18181818, 0.        ,\n        0.        ],\n       [0.40909091, 0.03846154, 1.        , ..., 0.18181818, 0.        ,\n        0.        ],\n       ...,\n       [0.43181818, 0.        , 0.        , ..., 0.09090909, 0.11764706,\n        1.        ],\n       [0.43181818, 0.        , 0.        , ..., 0.09090909, 0.05882353,\n        1.        ],\n       [0.43181818, 0.        , 0.        , ..., 0.09090909, 0.        ,\n        1.        ]])"
     },
     "execution_count": 149,
     "metadata": {},
     "output_type": "execute_result"
    }
   ],
   "source": [
    "for i in range(len(matrix)):\n",
    "    index = 0\n",
    "    for j in feature_indices:\n",
    "        matrix[i, j[0]] = (\n",
    "                (matrix[i, j[0]] - min_max[index][0]) / (min_max[index][1] - min_max[index][0]))\n",
    "        matrix[i, j[1]] = (\n",
    "                (matrix[i, j[1]] - min_max[index + 1][0]) / (min_max[index + 1][1] - min_max[index + 1][0]))\n",
    "        index += 2"
   ],
   "metadata": {
    "collapsed": false,
    "pycharm": {
     "name": "#%%\n"
    }
   }
  }
 ],
 "metadata": {
  "kernelspec": {
   "name": "python3",
   "language": "python",
   "display_name": "Python 3 (ipykernel)"
  },
  "language_info": {
   "codemirror_mode": {
    "name": "ipython",
    "version": 2
   },
   "file_extension": ".py",
   "mimetype": "text/x-python",
   "name": "python",
   "nbconvert_exporter": "python",
   "pygments_lexer": "ipython2",
   "version": "2.7.6"
  }
 },
 "nbformat": 4,
 "nbformat_minor": 0
}