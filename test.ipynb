{
 "cells": [
  {
   "cell_type": "code",
   "execution_count": 66,
   "outputs": [],
   "source": [
    "import pandas as pd\n",
    "import numpy as np"
   ],
   "metadata": {
    "collapsed": false,
    "pycharm": {
     "name": "#%%\n"
    }
   }
  },
  {
   "cell_type": "code",
   "execution_count": 36,
   "outputs": [],
   "source": [
    "results_major = pd.read_csv(r'C:\\Users\\evani\\OneDrive\\AI leiden\\Sanquin\\Github Merel\\RL_matching-main\\results\\request_scratch\\a0.1_g0.5_b50_0\\request_9.csv')\n",
    "results_C = pd.read_csv(r\"C:\\Users\\evani\\OneDrive\\AI leiden\\Sanquin\\Github Merel\\RL_matching-main\\results\\request_scratch\\a0.1_g0.5_b50_['C']\\request_9.csv\")\n",
    "results_Cc = pd.read_csv(r\"C:\\Users\\evani\\OneDrive\\AI leiden\\Sanquin\\Github Merel\\RL_matching-main\\results\\request_scratch\\a0.1_g0.5_b50_['C', 'c']\\request_9.csv\")\n",
    "results_CcE = pd.read_csv(r\"C:\\Users\\evani\\OneDrive\\AI leiden\\Sanquin\\Github Merel\\RL_matching-main\\results\\request_scratch\\a0.1_g0.5_b50_['C', 'c', 'E']\\request_9.csv\")\n",
    "results_CcEe = pd.read_csv(r\"C:\\Users\\evani\\OneDrive\\AI leiden\\Sanquin\\Github Merel\\RL_matching-main\\results\\request_scratch\\a0.1_g0.5_b50_['C', 'c', 'E', 'e']\\request_9.csv\")\n",
    "results_CcEeK = pd.read_csv(r\"C:\\Users\\evani\\OneDrive\\AI leiden\\Sanquin\\Github Merel\\RL_matching-main\\results\\request_scratch\\a0.1_g0.5_b50_['C', 'c', 'E', 'e', 'K']\\request_9.csv\")"
   ],
   "metadata": {
    "collapsed": false,
    "pycharm": {
     "name": "#%%\n"
    }
   }
  },
  {
   "cell_type": "code",
   "execution_count": 49,
   "outputs": [
    {
     "data": {
      "text/plain": "     day  logged location       model name     supply scenario  \\\n0      0    True    reg_9  request_scratch  cau100_afr0_asi0_9   \n1      1    True    reg_9  request_scratch  cau100_afr0_asi0_9   \n2      2    True    reg_9  request_scratch  cau100_afr0_asi0_9   \n3      3    True    reg_9  request_scratch  cau100_afr0_asi0_9   \n4      4    True    reg_9  request_scratch  cau100_afr0_asi0_9   \n..   ...     ...      ...              ...                 ...   \n430  430    True    reg_9  request_scratch  cau100_afr0_asi0_9   \n431  431    True    reg_9  request_scratch  cau100_afr0_asi0_9   \n432  432    True    reg_9  request_scratch  cau100_afr0_asi0_9   \n433  433    True    reg_9  request_scratch  cau100_afr0_asi0_9   \n434  434    True    reg_9  request_scratch  cau100_afr0_asi0_9   \n\n    demand scenario  avg daily demand  inventory size  test days  init days  \\\n0        regional_9                50             150        365         70   \n1        regional_9                50             150        365         70   \n2        regional_9                50             150        365         70   \n3        regional_9                50             150        365         70   \n4        regional_9                50             150        365         70   \n..              ...               ...             ...        ...        ...   \n430      regional_9                50             150        365         70   \n431      regional_9                50             150        365         70   \n432      regional_9                50             150        365         70   \n433      regional_9                50             150        365         70   \n434      regional_9                50             150        365         70   \n\n     ...  num AB+ in inventory  reward  issued but nonexistent  \\\n0    ...                     0     0.0                       0   \n1    ...                     0     0.0                       0   \n2    ...                     0   -60.0                       1   \n3    ...                     0  -720.0                      12   \n4    ...                     0  -660.0                      11   \n..   ...                   ...     ...                     ...   \n430  ...                     0 -2706.0                      41   \n431  ...                     0 -1800.0                      30   \n432  ...                     0 -1266.0                      20   \n433  ...                     0 -1260.0                      21   \n434  ...                     0 -1280.0                      19   \n\n     issued but discarded  num outdates  num shortages  num mismatches A  \\\n0                       0           0.0              0                 0   \n1                       0           0.0              0                 0   \n2                       0           0.0              1                 0   \n3                       0           0.0             12                 0   \n4                       0           0.0             11                 0   \n..                    ...           ...            ...               ...   \n430                     0         246.0             41                 0   \n431                     0           0.0             30                 0   \n432                     0          66.0             20                 0   \n433                     0           0.0             21                 0   \n434                     0         140.0             19                 0   \n\n     num mismatches B  num mismatches D  num mismatches C  \n0                   0                 0                 0  \n1                   0                 0                 0  \n2                   0                 0                 0  \n3                   0                 0                 0  \n4                   0                 0                 0  \n..                ...               ...               ...  \n430                 0                 0                 0  \n431                 0                 0                 0  \n432                 0                 0                 0  \n433                 0                 0                 0  \n434                 0                 0                 0  \n\n[435 rows x 52 columns]",
      "text/html": "<div>\n<style scoped>\n    .dataframe tbody tr th:only-of-type {\n        vertical-align: middle;\n    }\n\n    .dataframe tbody tr th {\n        vertical-align: top;\n    }\n\n    .dataframe thead th {\n        text-align: right;\n    }\n</style>\n<table border=\"1\" class=\"dataframe\">\n  <thead>\n    <tr style=\"text-align: right;\">\n      <th></th>\n      <th>day</th>\n      <th>logged</th>\n      <th>location</th>\n      <th>model name</th>\n      <th>supply scenario</th>\n      <th>demand scenario</th>\n      <th>avg daily demand</th>\n      <th>inventory size</th>\n      <th>test days</th>\n      <th>init days</th>\n      <th>...</th>\n      <th>num AB+ in inventory</th>\n      <th>reward</th>\n      <th>issued but nonexistent</th>\n      <th>issued but discarded</th>\n      <th>num outdates</th>\n      <th>num shortages</th>\n      <th>num mismatches A</th>\n      <th>num mismatches B</th>\n      <th>num mismatches D</th>\n      <th>num mismatches C</th>\n    </tr>\n  </thead>\n  <tbody>\n    <tr>\n      <th>0</th>\n      <td>0</td>\n      <td>True</td>\n      <td>reg_9</td>\n      <td>request_scratch</td>\n      <td>cau100_afr0_asi0_9</td>\n      <td>regional_9</td>\n      <td>50</td>\n      <td>150</td>\n      <td>365</td>\n      <td>70</td>\n      <td>...</td>\n      <td>0</td>\n      <td>0.0</td>\n      <td>0</td>\n      <td>0</td>\n      <td>0.0</td>\n      <td>0</td>\n      <td>0</td>\n      <td>0</td>\n      <td>0</td>\n      <td>0</td>\n    </tr>\n    <tr>\n      <th>1</th>\n      <td>1</td>\n      <td>True</td>\n      <td>reg_9</td>\n      <td>request_scratch</td>\n      <td>cau100_afr0_asi0_9</td>\n      <td>regional_9</td>\n      <td>50</td>\n      <td>150</td>\n      <td>365</td>\n      <td>70</td>\n      <td>...</td>\n      <td>0</td>\n      <td>0.0</td>\n      <td>0</td>\n      <td>0</td>\n      <td>0.0</td>\n      <td>0</td>\n      <td>0</td>\n      <td>0</td>\n      <td>0</td>\n      <td>0</td>\n    </tr>\n    <tr>\n      <th>2</th>\n      <td>2</td>\n      <td>True</td>\n      <td>reg_9</td>\n      <td>request_scratch</td>\n      <td>cau100_afr0_asi0_9</td>\n      <td>regional_9</td>\n      <td>50</td>\n      <td>150</td>\n      <td>365</td>\n      <td>70</td>\n      <td>...</td>\n      <td>0</td>\n      <td>-60.0</td>\n      <td>1</td>\n      <td>0</td>\n      <td>0.0</td>\n      <td>1</td>\n      <td>0</td>\n      <td>0</td>\n      <td>0</td>\n      <td>0</td>\n    </tr>\n    <tr>\n      <th>3</th>\n      <td>3</td>\n      <td>True</td>\n      <td>reg_9</td>\n      <td>request_scratch</td>\n      <td>cau100_afr0_asi0_9</td>\n      <td>regional_9</td>\n      <td>50</td>\n      <td>150</td>\n      <td>365</td>\n      <td>70</td>\n      <td>...</td>\n      <td>0</td>\n      <td>-720.0</td>\n      <td>12</td>\n      <td>0</td>\n      <td>0.0</td>\n      <td>12</td>\n      <td>0</td>\n      <td>0</td>\n      <td>0</td>\n      <td>0</td>\n    </tr>\n    <tr>\n      <th>4</th>\n      <td>4</td>\n      <td>True</td>\n      <td>reg_9</td>\n      <td>request_scratch</td>\n      <td>cau100_afr0_asi0_9</td>\n      <td>regional_9</td>\n      <td>50</td>\n      <td>150</td>\n      <td>365</td>\n      <td>70</td>\n      <td>...</td>\n      <td>0</td>\n      <td>-660.0</td>\n      <td>11</td>\n      <td>0</td>\n      <td>0.0</td>\n      <td>11</td>\n      <td>0</td>\n      <td>0</td>\n      <td>0</td>\n      <td>0</td>\n    </tr>\n    <tr>\n      <th>...</th>\n      <td>...</td>\n      <td>...</td>\n      <td>...</td>\n      <td>...</td>\n      <td>...</td>\n      <td>...</td>\n      <td>...</td>\n      <td>...</td>\n      <td>...</td>\n      <td>...</td>\n      <td>...</td>\n      <td>...</td>\n      <td>...</td>\n      <td>...</td>\n      <td>...</td>\n      <td>...</td>\n      <td>...</td>\n      <td>...</td>\n      <td>...</td>\n      <td>...</td>\n      <td>...</td>\n    </tr>\n    <tr>\n      <th>430</th>\n      <td>430</td>\n      <td>True</td>\n      <td>reg_9</td>\n      <td>request_scratch</td>\n      <td>cau100_afr0_asi0_9</td>\n      <td>regional_9</td>\n      <td>50</td>\n      <td>150</td>\n      <td>365</td>\n      <td>70</td>\n      <td>...</td>\n      <td>0</td>\n      <td>-2706.0</td>\n      <td>41</td>\n      <td>0</td>\n      <td>246.0</td>\n      <td>41</td>\n      <td>0</td>\n      <td>0</td>\n      <td>0</td>\n      <td>0</td>\n    </tr>\n    <tr>\n      <th>431</th>\n      <td>431</td>\n      <td>True</td>\n      <td>reg_9</td>\n      <td>request_scratch</td>\n      <td>cau100_afr0_asi0_9</td>\n      <td>regional_9</td>\n      <td>50</td>\n      <td>150</td>\n      <td>365</td>\n      <td>70</td>\n      <td>...</td>\n      <td>0</td>\n      <td>-1800.0</td>\n      <td>30</td>\n      <td>0</td>\n      <td>0.0</td>\n      <td>30</td>\n      <td>0</td>\n      <td>0</td>\n      <td>0</td>\n      <td>0</td>\n    </tr>\n    <tr>\n      <th>432</th>\n      <td>432</td>\n      <td>True</td>\n      <td>reg_9</td>\n      <td>request_scratch</td>\n      <td>cau100_afr0_asi0_9</td>\n      <td>regional_9</td>\n      <td>50</td>\n      <td>150</td>\n      <td>365</td>\n      <td>70</td>\n      <td>...</td>\n      <td>0</td>\n      <td>-1266.0</td>\n      <td>20</td>\n      <td>0</td>\n      <td>66.0</td>\n      <td>20</td>\n      <td>0</td>\n      <td>0</td>\n      <td>0</td>\n      <td>0</td>\n    </tr>\n    <tr>\n      <th>433</th>\n      <td>433</td>\n      <td>True</td>\n      <td>reg_9</td>\n      <td>request_scratch</td>\n      <td>cau100_afr0_asi0_9</td>\n      <td>regional_9</td>\n      <td>50</td>\n      <td>150</td>\n      <td>365</td>\n      <td>70</td>\n      <td>...</td>\n      <td>0</td>\n      <td>-1260.0</td>\n      <td>21</td>\n      <td>0</td>\n      <td>0.0</td>\n      <td>21</td>\n      <td>0</td>\n      <td>0</td>\n      <td>0</td>\n      <td>0</td>\n    </tr>\n    <tr>\n      <th>434</th>\n      <td>434</td>\n      <td>True</td>\n      <td>reg_9</td>\n      <td>request_scratch</td>\n      <td>cau100_afr0_asi0_9</td>\n      <td>regional_9</td>\n      <td>50</td>\n      <td>150</td>\n      <td>365</td>\n      <td>70</td>\n      <td>...</td>\n      <td>0</td>\n      <td>-1280.0</td>\n      <td>19</td>\n      <td>0</td>\n      <td>140.0</td>\n      <td>19</td>\n      <td>0</td>\n      <td>0</td>\n      <td>0</td>\n      <td>0</td>\n    </tr>\n  </tbody>\n</table>\n<p>435 rows × 52 columns</p>\n</div>"
     },
     "execution_count": 49,
     "metadata": {},
     "output_type": "execute_result"
    }
   ],
   "source": [
    "results_C"
   ],
   "metadata": {
    "collapsed": false,
    "pycharm": {
     "name": "#%%\n"
    }
   }
  },
  {
   "cell_type": "code",
   "execution_count": 1,
   "outputs": [],
   "source": [
    "dic = {'a:':1, 'b':2, 'c':3\n",
    "       }"
   ],
   "metadata": {
    "collapsed": false,
    "pycharm": {
     "name": "#%%\n"
    }
   }
  },
  {
   "cell_type": "code",
   "execution_count": 5,
   "outputs": [
    {
     "data": {
      "text/plain": "1"
     },
     "execution_count": 5,
     "metadata": {},
     "output_type": "execute_result"
    }
   ],
   "source": [
    "dic['a:']"
   ],
   "metadata": {
    "collapsed": false,
    "pycharm": {
     "name": "#%%\n"
    }
   }
  },
  {
   "cell_type": "code",
   "execution_count": null,
   "outputs": [],
   "source": [],
   "metadata": {
    "collapsed": false,
    "pycharm": {
     "name": "#%%\n"
    }
   }
  }
 ],
 "metadata": {
  "kernelspec": {
   "display_name": "Python 3",
   "language": "python",
   "name": "python3"
  },
  "language_info": {
   "codemirror_mode": {
    "name": "ipython",
    "version": 2
   },
   "file_extension": ".py",
   "mimetype": "text/x-python",
   "name": "python",
   "nbconvert_exporter": "python",
   "pygments_lexer": "ipython2",
   "version": "2.7.6"
  }
 },
 "nbformat": 4,
 "nbformat_minor": 0
}