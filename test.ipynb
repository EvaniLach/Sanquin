{
 "cells": [
  {
   "cell_type": "code",
   "execution_count": 115,
   "outputs": [],
   "source": [
    "import numpy as np\n",
    "import os\n",
    "import torch"
   ],
   "metadata": {
    "collapsed": false,
    "pycharm": {
     "name": "#%%\n"
    }
   }
  },
  {
   "cell_type": "code",
   "execution_count": 117,
   "outputs": [],
   "source": [
    "dir = \"C:/Users/evani/OneDrive/AI leiden/Sanquin/RL_matching-main/NN training data/1_1/states\""
   ],
   "metadata": {
    "collapsed": false,
    "pycharm": {
     "name": "#%%\n"
    }
   }
  },
  {
   "cell_type": "code",
   "execution_count": 118,
   "outputs": [],
   "source": [
    "array_list = []\n",
    "for file in os.listdir(dir):\n",
    "    f = os.path.join(dir, file)\n",
    "    states = np.load(f, allow_pickle=True)\n",
    "    array_list.append(states)\n",
    "\n",
    "full = np.vstack(array_list)"
   ],
   "metadata": {
    "collapsed": false,
    "pycharm": {
     "name": "#%%\n"
    }
   }
  },
  {
   "cell_type": "code",
   "execution_count": 119,
   "outputs": [
    {
     "data": {
      "text/plain": "1143224"
     },
     "execution_count": 119,
     "metadata": {},
     "output_type": "execute_result"
    }
   ],
   "source": [
    "len(full)"
   ],
   "metadata": {
    "collapsed": false,
    "pycharm": {
     "name": "#%%\n"
    }
   }
  },
  {
   "cell_type": "code",
   "execution_count": 40,
   "outputs": [
    {
     "data": {
      "text/plain": "array([63., 63., 63., ..., 50., 50., 50.])"
     },
     "execution_count": 40,
     "metadata": {},
     "output_type": "execute_result"
    }
   ],
   "source": [
    "full[:, 3]"
   ],
   "metadata": {
    "collapsed": false,
    "pycharm": {
     "name": "#%%\n"
    }
   }
  },
  {
   "cell_type": "code",
   "execution_count": 66,
   "outputs": [
    {
     "name": "stdout",
     "output_type": "stream",
     "text": [
      "column:  0\n",
      "1st:  0.0\n",
      "99th:  30.0\n",
      "# outliers:  8318\n",
      "column:  1\n",
      "1st:  0.0\n",
      "99th:  7.0\n",
      "# outliers:  8244\n",
      "column:  2\n",
      "1st:  0.0\n",
      "99th:  1.0\n",
      "# outliers:  0\n",
      "column:  3\n",
      "1st:  3.0\n",
      "99th:  65.0\n",
      "# outliers:  19371\n",
      "column:  4\n",
      "1st:  0.0\n",
      "99th:  45.0\n",
      "# outliers:  11088\n",
      "column:  5\n",
      "1st:  0.0\n",
      "99th:  1.0\n",
      "# outliers:  0\n",
      "column:  6\n",
      "1st:  0.0\n",
      "99th:  6.0\n",
      "# outliers:  6594\n",
      "column:  7\n",
      "1st:  0.0\n",
      "99th:  5.0\n",
      "# outliers:  10012\n",
      "column:  8\n",
      "1st:  0.0\n",
      "99th:  1.0\n",
      "# outliers:  0\n",
      "column:  9\n",
      "1st:  0.0\n",
      "99th:  16.0\n",
      "# outliers:  7718\n",
      "column:  10\n",
      "1st:  0.0\n",
      "99th:  16.0\n",
      "# outliers:  8916\n",
      "column:  11\n",
      "1st:  0.0\n",
      "99th:  1.0\n",
      "# outliers:  0\n",
      "column:  12\n",
      "1st:  0.0\n",
      "99th:  18.0\n",
      "# outliers:  6174\n",
      "column:  13\n",
      "1st:  0.0\n",
      "99th:  15.0\n",
      "# outliers:  10857\n",
      "column:  14\n",
      "1st:  0.0\n",
      "99th:  1.0\n",
      "# outliers:  0\n",
      "column:  15\n",
      "1st:  9.0\n",
      "99th:  59.0\n",
      "# outliers:  19942\n",
      "column:  16\n",
      "1st:  0.0\n",
      "99th:  58.0\n",
      "# outliers:  11391\n",
      "column:  17\n",
      "1st:  0.0\n",
      "99th:  1.0\n",
      "# outliers:  0\n",
      "column:  18\n",
      "1st:  0.0\n",
      "99th:  3.0\n",
      "# outliers:  7103\n",
      "column:  19\n",
      "1st:  0.0\n",
      "99th:  4.0\n",
      "# outliers:  8798\n",
      "column:  20\n",
      "1st:  0.0\n",
      "99th:  0.0\n",
      "# outliers:  7640\n",
      "column:  21\n",
      "1st:  0.0\n",
      "99th:  6.0\n",
      "# outliers:  5376\n",
      "column:  22\n",
      "1st:  0.0\n",
      "99th:  10.0\n",
      "# outliers:  8982\n",
      "column:  23\n",
      "1st:  0.0\n",
      "99th:  1.0\n",
      "# outliers:  0\n"
     ]
    }
   ],
   "source": [
    "for c in range(full.shape[1]):\n",
    "    first = np.percentile(full[:, c], 1)\n",
    "    nn = np.percentile(full[:, c], 99)\n",
    "    outliers = []\n",
    "    for x in full[:, c]:\n",
    "        if x < first or x > nn:\n",
    "            outliers.append(x)\n",
    "\n",
    "    print('column: ', c)\n",
    "    print('1st: ', first)\n",
    "    print('99th: ', nn)\n",
    "    print('# outliers: ', len(outliers))"
   ],
   "metadata": {
    "collapsed": false,
    "pycharm": {
     "name": "#%%\n"
    }
   }
  },
  {
   "cell_type": "code",
   "execution_count": 78,
   "outputs": [
    {
     "data": {
      "text/plain": "array([[28.,  6.,  1., ...,  3.,  7.,  0.],\n       [27.,  5.,  1., ...,  3.,  7.,  0.],\n       [26.,  4.,  1., ...,  3.,  7.,  0.],\n       ...,\n       [ 6.,  0.,  0., ...,  3.,  2.,  0.],\n       [ 6.,  0.,  0., ...,  2.,  1.,  1.],\n       [ 6.,  0.,  0., ...,  2.,  0.,  1.]])"
     },
     "execution_count": 78,
     "metadata": {},
     "output_type": "execute_result"
    }
   ],
   "source": [
    "full[np.where(full[:, 18] > 5)]"
   ],
   "metadata": {
    "collapsed": false,
    "pycharm": {
     "name": "#%%\n"
    }
   }
  },
  {
   "cell_type": "code",
   "execution_count": 90,
   "outputs": [
    {
     "data": {
      "text/plain": "9726"
     },
     "execution_count": 90,
     "metadata": {},
     "output_type": "execute_result"
    }
   ],
   "source": [
    "len(np.where(full[:, 3] < 3)[0])"
   ],
   "metadata": {
    "collapsed": false,
    "pycharm": {
     "name": "#%%\n"
    }
   }
  },
  {
   "cell_type": "code",
   "execution_count": 51,
   "outputs": [],
   "source": [
    "y = np.nonzero(matrix == 1)[1]"
   ],
   "metadata": {
    "collapsed": false,
    "pycharm": {
     "name": "#%%\n"
    }
   }
  },
  {
   "cell_type": "code",
   "execution_count": 70,
   "outputs": [
    {
     "data": {
      "text/plain": "array([12.61694996, 36.53002386,  2.1517218 ,  6.16659552,  8.85530745,\n       32.70347718,  0.34498926,  0.63093497])"
     },
     "execution_count": 70,
     "metadata": {},
     "output_type": "execute_result"
    }
   ],
   "source": [
    "np.unique(y, return_counts=True)[1] / len(y) * 100"
   ],
   "metadata": {
    "collapsed": false,
    "pycharm": {
     "name": "#%%\n"
    }
   }
  },
  {
   "cell_type": "code",
   "execution_count": 54,
   "outputs": [],
   "source": [
    "from sklearn.model_selection import train_test_split\n",
    "\n",
    "subset_indices, _ = train_test_split(\n",
    "    range(len(y)),\n",
    "    stratify=y,\n",
    "    train_size=0.1,\n",
    ")\n",
    "\n",
    "# Split 80/20 for training and validation\n",
    "train_set, val_set = train_test_split(\n",
    "    subset_indices,\n",
    "    stratify=y[subset_indices],\n",
    "    test_size=0.2,\n",
    ")"
   ],
   "metadata": {
    "collapsed": false,
    "pycharm": {
     "name": "#%%\n"
    }
   }
  },
  {
   "cell_type": "code",
   "execution_count": 59,
   "outputs": [],
   "source": [
    "train = y[train_set]"
   ],
   "metadata": {
    "collapsed": false,
    "pycharm": {
     "name": "#%%\n"
    }
   }
  },
  {
   "cell_type": "code",
   "execution_count": 68,
   "outputs": [
    {
     "data": {
      "text/plain": "array([12.6168582 , 36.52973529,  2.15183092,  6.1668325 ,  8.85552773,\n       32.70389363,  0.34442416,  0.63089758])"
     },
     "execution_count": 68,
     "metadata": {},
     "output_type": "execute_result"
    }
   ],
   "source": [
    "np.unique(train, return_counts=True)[1] / len(train) * 100"
   ],
   "metadata": {
    "collapsed": false,
    "pycharm": {
     "name": "#%%\n"
    }
   }
  },
  {
   "cell_type": "code",
   "execution_count": 36,
   "outputs": [],
   "source": [
    "from sklearn.model_selection import train_test_split\n",
    "\n",
    "y = (matrix == 1).nonzero()[:, 1]\n",
    "\n",
    "subset_indices = train_test_split(\n",
    "    range(len(matrix)),\n",
    "    stratify=y,\n",
    "    train_size=0.1,\n",
    ")"
   ],
   "metadata": {
    "collapsed": false,
    "pycharm": {
     "name": "#%%\n"
    }
   }
  },
  {
   "cell_type": "code",
   "execution_count": 98,
   "outputs": [],
   "source": [
    "feature_indices = []\n",
    "for i in range(24):\n",
    "    if i % 3 == 0:\n",
    "        feature_indices.append(i)\n",
    "        feature_indices.append(i + 1)"
   ],
   "metadata": {
    "collapsed": false,
    "pycharm": {
     "name": "#%%\n"
    }
   }
  },
  {
   "cell_type": "code",
   "execution_count": 106,
   "outputs": [],
   "source": [
    "import torch\n",
    "\n",
    "tensor = torch.randint(0, 100, (5,))"
   ],
   "metadata": {
    "collapsed": false,
    "pycharm": {
     "name": "#%%\n"
    }
   }
  },
  {
   "cell_type": "code",
   "execution_count": 113,
   "outputs": [
    {
     "data": {
      "text/plain": "tensor(22)"
     },
     "execution_count": 113,
     "metadata": {},
     "output_type": "execute_result"
    }
   ],
   "source": [
    "tensor[3,]"
   ],
   "metadata": {
    "collapsed": false,
    "pycharm": {
     "name": "#%%\n"
    }
   }
  },
  {
   "cell_type": "code",
   "execution_count": 7,
   "outputs": [],
   "source": [
    "def normalize(matrix):\n",
    "    columns = matrix.shape[1]\n",
    "    feature_indices = [(i, i + 1) for i in range(columns) if (i % 3 == 0)]\n",
    "    min_max = []\n",
    "\n",
    "    for i in feature_indices:\n",
    "        min_max.append((np.min(matrix[:, i[0]]), np.max(matrix[:, i[0]])))\n",
    "        min_max.append((np.min(matrix[:, i[1]]), np.max(matrix[:, i[1]])))\n",
    "\n",
    "    for i in range(len(matrix)):\n",
    "        index = 0\n",
    "        for j in feature_indices:\n",
    "            matrix[i, j[0]] = (\n",
    "                    (matrix[i, j[0]] - min_max[index][0]) / (min_max[index][1] - min_max[index][0]))\n",
    "            matrix[i, j[1]] = (\n",
    "                    (matrix[i, j[1]] - min_max[index + 1][0]) / (min_max[index + 1][1] - min_max[index + 1][0]))\n",
    "            index += 2\n",
    "    return matrix"
   ],
   "metadata": {
    "collapsed": false,
    "pycharm": {
     "name": "#%%\n"
    }
   }
  },
  {
   "cell_type": "code",
   "execution_count": 8,
   "outputs": [
    {
     "data": {
      "text/plain": "array([[0.45454545, 0.11538462, 1.        , ..., 0.18181818, 0.        ,\n        0.        ],\n       [0.43181818, 0.07692308, 1.        , ..., 0.18181818, 0.        ,\n        0.        ],\n       [0.40909091, 0.03846154, 1.        , ..., 0.18181818, 0.        ,\n        0.        ],\n       ...,\n       [0.43181818, 0.        , 0.        , ..., 0.09090909, 0.11764706,\n        1.        ],\n       [0.43181818, 0.        , 0.        , ..., 0.09090909, 0.05882353,\n        1.        ],\n       [0.43181818, 0.        , 0.        , ..., 0.09090909, 0.        ,\n        1.        ]])"
     },
     "execution_count": 8,
     "metadata": {},
     "output_type": "execute_result"
    }
   ],
   "source": [
    "normalize(matrix)"
   ],
   "metadata": {
    "collapsed": false,
    "pycharm": {
     "name": "#%%\n"
    }
   }
  },
  {
   "cell_type": "code",
   "execution_count": 51,
   "outputs": [],
   "source": [
    "targets = \"C:/Users/evani/OneDrive/AI leiden/Sanquin/RL_matching-main/NN training data/1_1/q_matrices\""
   ],
   "metadata": {
    "collapsed": false,
    "pycharm": {
     "name": "#%%\n"
    }
   }
  },
  {
   "cell_type": "code",
   "execution_count": 73,
   "outputs": [],
   "source": [
    "array_list = []\n",
    "for file in os.listdir(targets):\n",
    "    f = os.path.join(targets, file)\n",
    "    states = np.load(f, allow_pickle=True)\n",
    "    array_list.append(states)\n",
    "\n",
    "y = np.vstack(array_list)\n",
    "y = torch.from_numpy(y).long()"
   ],
   "metadata": {
    "collapsed": false,
    "pycharm": {
     "name": "#%%\n"
    }
   }
  },
  {
   "cell_type": "code",
   "execution_count": 91,
   "outputs": [],
   "source": [
    "def weighted_sampler(y):\n",
    "    class_counts = torch.sum(y, dim=0)\n",
    "    class_weights = 1. / class_counts\n",
    "    class_weights_all = class_weights[y]\n",
    "\n",
    "    # weighted_sampler = WeightedRandomSampler(\n",
    "    #     weights=class_weights_all,\n",
    "    #     num_samples=len(class_weights_all),\n",
    "    #     replacement=True\n",
    "    # )\n",
    "\n",
    "    # return weighted_sampler\n",
    "\n",
    "    return class_weights_all, class_weights"
   ],
   "metadata": {
    "collapsed": false,
    "pycharm": {
     "name": "#%%\n"
    }
   }
  },
  {
   "cell_type": "code",
   "execution_count": 94,
   "outputs": [
    {
     "data": {
      "text/plain": "tensor([144240, 417620,  24599,  70498, 101236, 373874,   3944,   7213])"
     },
     "execution_count": 94,
     "metadata": {},
     "output_type": "execute_result"
    }
   ],
   "source": [
    "torch.sum(y, dim=0)"
   ],
   "metadata": {
    "collapsed": false,
    "pycharm": {
     "name": "#%%\n"
    }
   }
  },
  {
   "cell_type": "code",
   "execution_count": 95,
   "outputs": [
    {
     "name": "stdout",
     "output_type": "stream",
     "text": [
      "tensor([[1, 0, 0,  ..., 0, 0, 0],\n",
      "        [1, 0, 0,  ..., 0, 0, 0],\n",
      "        [1, 0, 0,  ..., 0, 0, 0],\n",
      "        ...,\n",
      "        [0, 0, 0,  ..., 0, 0, 0],\n",
      "        [0, 0, 0,  ..., 0, 0, 0],\n",
      "        [0, 0, 0,  ..., 0, 0, 0]])\n"
     ]
    }
   ],
   "source": [
    "weights, counts = weighted_sampler(y)"
   ],
   "metadata": {
    "collapsed": false,
    "pycharm": {
     "name": "#%%\n"
    }
   }
  },
  {
   "cell_type": "code",
   "execution_count": 96,
   "outputs": [],
   "source": [
    "import torch.nn as nn"
   ],
   "metadata": {
    "collapsed": false,
    "pycharm": {
     "name": "#%%\n"
    }
   }
  },
  {
   "cell_type": "code",
   "execution_count": 143,
   "outputs": [],
   "source": [
    "loss = nn.CrossEntropyLoss()\n",
    "input = torch.randn(3, 5, requires_grad=True)\n",
    "target = torch.empty(3, dtype=torch.long).random_(5)\n",
    "output = loss(input, target)"
   ],
   "metadata": {
    "collapsed": false,
    "pycharm": {
     "name": "#%%\n"
    }
   }
  },
  {
   "cell_type": "code",
   "execution_count": 152,
   "outputs": [],
   "source": [
    "target = torch.empty(3, dtype=torch.long).random_(5)"
   ],
   "metadata": {
    "collapsed": false,
    "pycharm": {
     "name": "#%%\n"
    }
   }
  },
  {
   "cell_type": "code",
   "execution_count": 153,
   "outputs": [
    {
     "data": {
      "text/plain": "tensor([0, 4, 4])"
     },
     "execution_count": 153,
     "metadata": {},
     "output_type": "execute_result"
    }
   ],
   "source": [
    "target"
   ],
   "metadata": {
    "collapsed": false,
    "pycharm": {
     "name": "#%%\n"
    }
   }
  },
  {
   "cell_type": "code",
   "execution_count": 112,
   "outputs": [],
   "source": [
    "indices = (y == 1).nonzero()[:, 1]"
   ],
   "metadata": {
    "collapsed": false,
    "pycharm": {
     "name": "#%%\n"
    }
   }
  },
  {
   "cell_type": "code",
   "execution_count": 187,
   "outputs": [],
   "source": [
    "from torch.utils.data import Dataset"
   ],
   "metadata": {
    "collapsed": false,
    "pycharm": {
     "name": "#%%\n"
    }
   }
  },
  {
   "cell_type": "code",
   "execution_count": 209,
   "outputs": [],
   "source": [
    "class MyData(Dataset):\n",
    "    def __init__(self, data_path=None, target_path=None):\n",
    "        train_list = []\n",
    "        for i in os.listdir(data_path):\n",
    "            data = np.load(data_path + i, allow_pickle=True)\n",
    "            train_list.append(data)\n",
    "\n",
    "        test_list = []\n",
    "        for i in os.listdir(target_path):\n",
    "            data = np.load(target_path + i, allow_pickle=True)\n",
    "            test_list.append(data)\n",
    "\n",
    "        self.x = torch.from_numpy(np.vstack(train_list)).float()\n",
    "        self.y = torch.from_numpy(np.vstack(test_list)).float()\n",
    "        self.y = (self.y == 1).nonzero()[:, 1]\n",
    "\n",
    "    def __getitem__(self, idx):\n",
    "        sample = self.x[idx], self.y[idx]\n",
    "        return sample\n",
    "\n",
    "    def __len__(self):\n",
    "        return len(self.x)"
   ],
   "metadata": {
    "collapsed": false,
    "pycharm": {
     "name": "#%%\n"
    }
   }
  },
  {
   "cell_type": "code",
   "execution_count": 211,
   "outputs": [],
   "source": [
    "data_path = 'NN training data/1_1/states/'\n",
    "target_path = 'NN training data/1_1/q_matrices/'\n",
    "\n",
    "dataset = MyData(data_path, target_path)"
   ],
   "metadata": {
    "collapsed": false,
    "pycharm": {
     "name": "#%%\n"
    }
   }
  },
  {
   "cell_type": "code",
   "execution_count": 222,
   "outputs": [],
   "source": [
    "targets = dataset.y"
   ],
   "metadata": {
    "collapsed": false,
    "pycharm": {
     "name": "#%%\n"
    }
   }
  },
  {
   "cell_type": "code",
   "execution_count": 232,
   "outputs": [
    {
     "data": {
      "text/plain": "tensor([144240, 417620,  24599,  70498, 101236, 373874,   3944,   7213])"
     },
     "execution_count": 232,
     "metadata": {},
     "output_type": "execute_result"
    }
   ],
   "source": [
    "torch.unique(targets, return_counts=True)[1]"
   ],
   "metadata": {
    "collapsed": false,
    "pycharm": {
     "name": "#%%\n"
    }
   }
  },
  {
   "cell_type": "code",
   "execution_count": 224,
   "outputs": [],
   "source": [
    "class_counts = torch.unique(targets, return_counts=True)[1]\n",
    "class_weights = 1. / class_counts\n",
    "class_weights_all = class_weights[targets]"
   ],
   "metadata": {
    "collapsed": false,
    "pycharm": {
     "name": "#%%\n"
    }
   }
  },
  {
   "cell_type": "code",
   "execution_count": 247,
   "outputs": [
    {
     "data": {
      "text/plain": "tensor([144240, 417620,  24599,  70498, 101236, 373874,   3944,   7213])"
     },
     "execution_count": 247,
     "metadata": {},
     "output_type": "execute_result"
    }
   ],
   "source": [
    "class_counts"
   ],
   "metadata": {
    "collapsed": false,
    "pycharm": {
     "name": "#%%\n"
    }
   }
  },
  {
   "cell_type": "code",
   "execution_count": 230,
   "outputs": [
    {
     "data": {
      "text/plain": "tensor([6.9329e-06, 2.3945e-06, 4.0652e-05, 1.4185e-05, 9.8779e-06, 2.6747e-06,\n        2.5355e-04, 1.3864e-04])"
     },
     "execution_count": 230,
     "metadata": {},
     "output_type": "execute_result"
    }
   ],
   "source": [
    "1. / class_counts"
   ],
   "metadata": {
    "collapsed": false,
    "pycharm": {
     "name": "#%%\n"
    }
   }
  },
  {
   "cell_type": "code",
   "execution_count": 227,
   "outputs": [
    {
     "data": {
      "text/plain": "tensor([6.9329e-06, 2.3945e-06, 4.0652e-05, 1.4185e-05, 9.8779e-06, 2.6747e-06,\n        2.5355e-04, 1.3864e-04])"
     },
     "execution_count": 227,
     "metadata": {},
     "output_type": "execute_result"
    }
   ],
   "source": [
    "class_weights"
   ],
   "metadata": {
    "collapsed": false,
    "pycharm": {
     "name": "#%%\n"
    }
   }
  },
  {
   "cell_type": "code",
   "execution_count": 234,
   "outputs": [],
   "source": [
    "y_pred = torch.rand(7)"
   ],
   "metadata": {
    "collapsed": false,
    "pycharm": {
     "name": "#%%\n"
    }
   }
  },
  {
   "cell_type": "code",
   "execution_count": 243,
   "outputs": [],
   "source": [
    "y_pred = torch.tensor([[0.1453, -0.0590, -0.0065, 0.0905, 0.0146, -0.0805, -0.1211, -0.0394,\n",
    "                        -0.0181, -0.0136]])"
   ],
   "metadata": {
    "collapsed": false,
    "pycharm": {
     "name": "#%%\n"
    }
   }
  },
  {
   "cell_type": "code",
   "execution_count": 249,
   "outputs": [
    {
     "data": {
      "text/plain": "torch.return_types.max(\nvalues=tensor([-2.1513]),\nindices=tensor([0]))"
     },
     "execution_count": 249,
     "metadata": {},
     "output_type": "execute_result"
    }
   ],
   "source": [
    "torch.max(torch.log_softmax(y_pred, dim=1), dim=1)"
   ],
   "metadata": {
    "collapsed": false,
    "pycharm": {
     "name": "#%%\n"
    }
   }
  },
  {
   "cell_type": "code",
   "execution_count": 250,
   "outputs": [],
   "source": [
    "loss = loss = nn.CrossEntropyLoss()"
   ],
   "metadata": {
    "collapsed": false,
    "pycharm": {
     "name": "#%%\n"
    }
   }
  },
  {
   "cell_type": "code",
   "execution_count": 263,
   "outputs": [],
   "source": [
    "target = torch.tensor([0])"
   ],
   "metadata": {
    "collapsed": false,
    "pycharm": {
     "name": "#%%\n"
    }
   }
  },
  {
   "cell_type": "code",
   "execution_count": 280,
   "outputs": [],
   "source": [
    "y_pred = torch.tensor([[0.6, 0.4, 0.3, 0.22, 0.55]])"
   ],
   "metadata": {
    "collapsed": false,
    "pycharm": {
     "name": "#%%\n"
    }
   }
  },
  {
   "cell_type": "code",
   "execution_count": 280,
   "outputs": [],
   "source": [],
   "metadata": {
    "collapsed": false,
    "pycharm": {
     "name": "#%%\n"
    }
   }
  },
  {
   "cell_type": "code",
   "execution_count": 281,
   "outputs": [
    {
     "data": {
      "text/plain": "tensor(1.4338)"
     },
     "execution_count": 281,
     "metadata": {},
     "output_type": "execute_result"
    }
   ],
   "source": [
    "loss(y_pred, target)"
   ],
   "metadata": {
    "collapsed": false,
    "pycharm": {
     "name": "#%%\n"
    }
   }
  }
 ],
 "metadata": {
  "kernelspec": {
   "name": "python3",
   "language": "python",
   "display_name": "Python 3 (ipykernel)"
  },
  "language_info": {
   "codemirror_mode": {
    "name": "ipython",
    "version": 2
   },
   "file_extension": ".py",
   "mimetype": "text/x-python",
   "name": "python",
   "nbconvert_exporter": "python",
   "pygments_lexer": "ipython2",
   "version": "2.7.6"
  }
 },
 "nbformat": 4,
 "nbformat_minor": 0
}