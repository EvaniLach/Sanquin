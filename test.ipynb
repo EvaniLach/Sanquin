{
 "cells": [
  {
   "cell_type": "code",
   "execution_count": 3,
   "outputs": [],
   "source": [
    "def linear_anneal(t, T, start, final, percentage):\n",
    "    ''' Linear annealing scheduler\n",
    "    t: current timestep\n",
    "    T: total timesteps\n",
    "    start: initial value\n",
    "    final: value after percentage*T steps\n",
    "    percentage: percentage of T after which annealing finishes\n",
    "    '''\n",
    "    final_from_T = int(percentage * T)\n",
    "    if t > final_from_T:\n",
    "        return final\n",
    "    else:\n",
    "        return final + (start - final) * (final_from_T - t) / final_from_T"
   ],
   "metadata": {
    "collapsed": false,
    "pycharm": {
     "name": "#%%\n"
    }
   }
  },
  {
   "cell_type": "code",
   "execution_count": 24,
   "outputs": [
    {
     "data": {
      "text/plain": "0.45999999999999996"
     },
     "execution_count": 24,
     "metadata": {},
     "output_type": "execute_result"
    }
   ],
   "source": [
    "linear_anneal(17, 25, 1.0, 0.01, 0.8)"
   ],
   "metadata": {
    "collapsed": false,
    "pycharm": {
     "name": "#%%\n"
    }
   }
  },
  {
   "cell_type": "code",
   "execution_count": 16,
   "outputs": [],
   "source": [
    "import torch.nn as nn\n",
    "\n",
    "\n",
    "def build_nn():\n",
    "    input_size = 72\n",
    "    output = 8\n",
    "    layer_sizes = [input_size] + [128, 128, 128] + [output]\n",
    "\n",
    "    assert len(layer_sizes) > 1\n",
    "    layers = []\n",
    "    for index in range(len(layer_sizes) - 1):\n",
    "        linear = nn.Linear(layer_sizes[index], layer_sizes[index + 1])\n",
    "        act = nn.ReLU() if index < len(layer_sizes) - 2 else nn.Identity()\n",
    "        layers += (linear, act)\n",
    "\n",
    "    return nn.Sequential(*layers)"
   ],
   "metadata": {
    "collapsed": false,
    "pycharm": {
     "name": "#%%\n"
    }
   }
  },
  {
   "cell_type": "code",
   "execution_count": 42,
   "outputs": [],
   "source": [
    "import random"
   ],
   "metadata": {
    "collapsed": false,
    "pycharm": {
     "name": "#%%\n"
    }
   }
  },
  {
   "cell_type": "code",
   "execution_count": 47,
   "outputs": [],
   "source": [
    "episodes = [*range(0, 25, 1)]\n",
    "test_episodes = random.sample(episodes, 5)\n",
    "train_episodes = set(episodes) - set(test_episodes)"
   ],
   "metadata": {
    "collapsed": false,
    "pycharm": {
     "name": "#%%\n"
    }
   }
  },
  {
   "cell_type": "code",
   "execution_count": 48,
   "outputs": [
    {
     "data": {
      "text/plain": "[20, 10, 4, 19, 7]"
     },
     "execution_count": 48,
     "metadata": {},
     "output_type": "execute_result"
    }
   ],
   "source": [
    "test_episodes"
   ],
   "metadata": {
    "collapsed": false,
    "pycharm": {
     "name": "#%%\n"
    }
   }
  },
  {
   "cell_type": "code",
   "execution_count": 49,
   "outputs": [
    {
     "data": {
      "text/plain": "{0, 1, 2, 3, 5, 6, 8, 9, 11, 12, 13, 14, 15, 16, 17, 18, 21, 22, 23, 24}"
     },
     "execution_count": 49,
     "metadata": {},
     "output_type": "execute_result"
    }
   ],
   "source": [
    "train_episodes"
   ],
   "metadata": {
    "collapsed": false,
    "pycharm": {
     "name": "#%%\n"
    }
   }
  }
 ],
 "metadata": {
  "kernelspec": {
   "display_name": "Python 3",
   "language": "python",
   "name": "python3"
  },
  "language_info": {
   "codemirror_mode": {
    "name": "ipython",
    "version": 2
   },
   "file_extension": ".py",
   "mimetype": "text/x-python",
   "name": "python",
   "nbconvert_exporter": "python",
   "pygments_lexer": "ipython2",
   "version": "2.7.6"
  }
 },
 "nbformat": 4,
 "nbformat_minor": 0
}